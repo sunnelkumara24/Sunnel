{
  "metadata": {
    "kernelspec": {
      "name": "python",
      "display_name": "Python (Pyodide)",
      "language": "python"
    },
    "language_info": {
      "codemirror_mode": {
        "name": "python",
        "version": 3
      },
      "file_extension": ".py",
      "mimetype": "text/x-python",
      "name": "python",
      "nbconvert_exporter": "python",
      "pygments_lexer": "ipython3",
      "version": "3.8"
    },
    "jupytext": {
      "formats": "ipynb,auto:percent"
    }
  },
  "nbformat_minor": 5,
  "nbformat": 4,
  "cells": [
    {
      "id": "b16f80fc-d507-4484-a2f4-322bafe928b0",
      "cell_type": "raw",
      "source": "a=\" PythoN Programing\"\nb=\"Hello HOw Are You\"",
      "metadata": {}
    },
    {
      "id": "9cf83233-742d-41be-bab6-bf58bbaca6cf",
      "cell_type": "raw",
      "source": "a.swapcase()",
      "metadata": {}
    },
    {
      "id": "ffe29fd5-82cc-4e53-9397-c36a233cd830",
      "cell_type": "code",
      "source": "# swapcase function : this is used to change a lowercase to upper and upper to lower case\n\na=\" PythoN Programing\"\nb=\"Hello HOw Are You\"",
      "metadata": {
        "trusted": true
      },
      "outputs": [],
      "execution_count": 3
    },
    {
      "id": "d9de316e-4c44-41ba-b588-ea762ba1f64a",
      "cell_type": "code",
      "source": "a.swapcase()",
      "metadata": {
        "trusted": true
      },
      "outputs": [
        {
          "execution_count": 4,
          "output_type": "execute_result",
          "data": {
            "text/plain": "' pYTHOn pROGRAMING'"
          },
          "metadata": {}
        }
      ],
      "execution_count": 4
    },
    {
      "id": "6fbffb78-9590-4053-8f74-02758d397b70",
      "cell_type": "code",
      "source": "b.swapcase()",
      "metadata": {
        "trusted": true
      },
      "outputs": [
        {
          "execution_count": 5,
          "output_type": "execute_result",
          "data": {
            "text/plain": "'hELLO hoW aRE yOU'"
          },
          "metadata": {}
        }
      ],
      "execution_count": 5
    },
    {
      "id": "6c4d955e-d2f3-45fc-8442-fd38a7a655ca",
      "cell_type": "code",
      "source": "print('a=', a.swapcase())\nprint('b=', b.swapcase())",
      "metadata": {
        "trusted": true
      },
      "outputs": [
        {
          "name": "stdout",
          "output_type": "stream",
          "text": "a=  pYTHOn pROGRAMING\nb= hELLO hoW aRE yOU\n"
        }
      ],
      "execution_count": 6
    },
    {
      "id": "354d6277-5479-4d59-9ba1-c013f969b4bf",
      "cell_type": "code",
      "source": "# zfill function : this is used a fill a string with zeros(0) with given occurances\n\nprint('a=', a.zfill(20))\nprint('b=', b.zfill(10))",
      "metadata": {
        "trusted": true
      },
      "outputs": [
        {
          "name": "stdout",
          "output_type": "stream",
          "text": "a= 00 PythoN Programing\nb= Hello HOw Are You\n"
        }
      ],
      "execution_count": 9
    },
    {
      "id": "c3da97b5-bbe7-4c83-a90f-6908331c3c46",
      "cell_type": "code",
      "source": "a.zfill(20)\n\n",
      "metadata": {
        "trusted": true
      },
      "outputs": [
        {
          "execution_count": 10,
          "output_type": "execute_result",
          "data": {
            "text/plain": "'00 PythoN Programing'"
          },
          "metadata": {}
        }
      ],
      "execution_count": 10
    },
    {
      "id": "39d50d82-1733-4eb7-8006-f2430143b0b0",
      "cell_type": "code",
      "source": "b.zfill(30)",
      "metadata": {
        "trusted": true
      },
      "outputs": [
        {
          "execution_count": 12,
          "output_type": "execute_result",
          "data": {
            "text/plain": "'0000000000000Hello HOw Are You'"
          },
          "metadata": {}
        }
      ],
      "execution_count": 12
    },
    {
      "id": "28e97e50-9a45-48fc-8b04-a9ed3fcfd560",
      "cell_type": "code",
      "source": "# Sets \n# sets function is crated with curlly brases \n# Emptyset function is created with set keyword only\n# set is not allowed a duplicates \n\ns=()",
      "metadata": {
        "trusted": true
      },
      "outputs": [],
      "execution_count": 13
    },
    {
      "id": "cc511821-688a-4e0f-a7a0-16b6e0fc517b",
      "cell_type": "code",
      "source": "type(s)",
      "metadata": {
        "trusted": true
      },
      "outputs": [
        {
          "execution_count": 14,
          "output_type": "execute_result",
          "data": {
            "text/plain": "tuple"
          },
          "metadata": {}
        }
      ],
      "execution_count": 14
    },
    {
      "id": "b4ebec2f-bd9f-43ea-ba4d-674b897f119e",
      "cell_type": "code",
      "source": "s={10,20,30,40,60,70}",
      "metadata": {
        "trusted": true
      },
      "outputs": [],
      "execution_count": 15
    },
    {
      "id": "a01a84d7-7ed2-4d1a-bf0d-e3b5b29d8d0f",
      "cell_type": "code",
      "source": "type(s)",
      "metadata": {
        "trusted": true
      },
      "outputs": [
        {
          "execution_count": 16,
          "output_type": "execute_result",
          "data": {
            "text/plain": "set"
          },
          "metadata": {}
        }
      ],
      "execution_count": 16
    },
    {
      "id": "f8ee641f-6068-4256-9b0b-7b356da3223e",
      "cell_type": "code",
      "source": "s={10,20,30,10,20,30,40,50,60,10,80,90,70,60}",
      "metadata": {
        "trusted": true
      },
      "outputs": [],
      "execution_count": 17
    },
    {
      "id": "6259e5df-6f65-4bf5-ac12-5ddfcc563553",
      "cell_type": "code",
      "source": "s",
      "metadata": {
        "trusted": true
      },
      "outputs": [
        {
          "execution_count": 18,
          "output_type": "execute_result",
          "data": {
            "text/plain": "{10, 20, 30, 40, 50, 60, 70, 80, 90}"
          },
          "metadata": {}
        }
      ],
      "execution_count": 18
    },
    {
      "id": "7214a22f-c014-4bfe-a87a-7b60f09d0352",
      "cell_type": "code",
      "source": "s.add(500)",
      "metadata": {
        "trusted": true
      },
      "outputs": [],
      "execution_count": 19
    },
    {
      "id": "2b94bcea-ee65-45c9-9cc2-05302cce2f09",
      "cell_type": "code",
      "source": "s",
      "metadata": {
        "trusted": true
      },
      "outputs": [
        {
          "execution_count": 20,
          "output_type": "execute_result",
          "data": {
            "text/plain": "{10, 20, 30, 40, 50, 60, 70, 80, 90, 500}"
          },
          "metadata": {}
        }
      ],
      "execution_count": 20
    },
    {
      "id": "0c6de31c-270d-4144-96a1-97360390a44b",
      "cell_type": "code",
      "source": "s.remove(40)",
      "metadata": {
        "trusted": true
      },
      "outputs": [],
      "execution_count": 24
    },
    {
      "id": "7adb0211-a551-4a0c-b227-459dc5af3a5a",
      "cell_type": "code",
      "source": "s",
      "metadata": {
        "trusted": true
      },
      "outputs": [
        {
          "execution_count": 25,
          "output_type": "execute_result",
          "data": {
            "text/plain": "{10, 20, 30, 50, 60, 70, 80, 90, 500}"
          },
          "metadata": {}
        }
      ],
      "execution_count": 25
    },
    {
      "id": "5a4e72ba-9346-4647-b852-e07a015a5b3b",
      "cell_type": "code",
      "source": "s.discart(100)",
      "metadata": {
        "trusted": true
      },
      "outputs": [
        {
          "ename": "<class 'AttributeError'>",
          "evalue": "'set' object has no attribute 'discart'",
          "traceback": [
            "\u001b[0;31m---------------------------------------------------------------------------\u001b[0m",
            "\u001b[0;31mAttributeError\u001b[0m                            Traceback (most recent call last)",
            "Cell \u001b[0;32mIn[26], line 1\u001b[0m\n\u001b[0;32m----> 1\u001b[0m \u001b[43ms\u001b[49m\u001b[38;5;241;43m.\u001b[39;49m\u001b[43mdiscart\u001b[49m(\u001b[38;5;241m100\u001b[39m)\n",
            "\u001b[0;31mAttributeError\u001b[0m: 'set' object has no attribute 'discart'"
          ],
          "output_type": "error"
        }
      ],
      "execution_count": 26
    },
    {
      "id": "1af61996-ca7c-4992-8549-5b2b496e8c21",
      "cell_type": "code",
      "source": "s.remove(100)",
      "metadata": {
        "trusted": true
      },
      "outputs": [
        {
          "ename": "<class 'KeyError'>",
          "evalue": "100",
          "traceback": [
            "\u001b[0;31m---------------------------------------------------------------------------\u001b[0m",
            "\u001b[0;31mKeyError\u001b[0m                                  Traceback (most recent call last)",
            "Cell \u001b[0;32mIn[27], line 1\u001b[0m\n\u001b[0;32m----> 1\u001b[0m \u001b[43ms\u001b[49m\u001b[38;5;241;43m.\u001b[39;49m\u001b[43mremove\u001b[49m\u001b[43m(\u001b[49m\u001b[38;5;241;43m100\u001b[39;49m\u001b[43m)\u001b[49m\n",
            "\u001b[0;31mKeyError\u001b[0m: 100"
          ],
          "output_type": "error"
        }
      ],
      "execution_count": 27
    },
    {
      "id": "1849cbaa-f0b2-4042-991c-3fc584cc5c2d",
      "cell_type": "code",
      "source": "s.pop()",
      "metadata": {
        "trusted": true
      },
      "outputs": [
        {
          "execution_count": 28,
          "output_type": "execute_result",
          "data": {
            "text/plain": "70"
          },
          "metadata": {}
        }
      ],
      "execution_count": 28
    },
    {
      "id": "43c1b7e1-83e0-4784-8424-9faedcaf7aa6",
      "cell_type": "code",
      "source": "s",
      "metadata": {
        "trusted": true
      },
      "outputs": [
        {
          "execution_count": 29,
          "output_type": "execute_result",
          "data": {
            "text/plain": "{10, 20, 30, 50, 60, 80, 90, 500}"
          },
          "metadata": {}
        }
      ],
      "execution_count": 29
    },
    {
      "id": "1a010f85-a160-4172-bca1-8f80f1cff49d",
      "cell_type": "code",
      "source": "len(s)",
      "metadata": {
        "trusted": true
      },
      "outputs": [
        {
          "execution_count": 30,
          "output_type": "execute_result",
          "data": {
            "text/plain": "8"
          },
          "metadata": {}
        }
      ],
      "execution_count": 30
    },
    {
      "id": "665a7c8a-5418-4a9a-b662-d44d2858adc4",
      "cell_type": "code",
      "source": "80 in s",
      "metadata": {
        "trusted": true
      },
      "outputs": [
        {
          "execution_count": 31,
          "output_type": "execute_result",
          "data": {
            "text/plain": "True"
          },
          "metadata": {}
        }
      ],
      "execution_count": 31
    },
    {
      "id": "7c9ef70e-5fc0-4bf3-802c-32b3e4c14445",
      "cell_type": "code",
      "source": "for ele in s:\n    print(ele)",
      "metadata": {
        "trusted": true
      },
      "outputs": [
        {
          "name": "stdout",
          "output_type": "stream",
          "text": "10\n80\n50\n20\n500\n90\n60\n30\n"
        }
      ],
      "execution_count": 33
    },
    {
      "id": "8ab56df4-0ca1-4da0-87a7-fd6bebe2bb39",
      "cell_type": "code",
      "source": "for ele in s:\n    print(s)",
      "metadata": {
        "trusted": true
      },
      "outputs": [
        {
          "name": "stdout",
          "output_type": "stream",
          "text": "{10, 80, 50, 20, 500, 90, 60, 30}\n{10, 80, 50, 20, 500, 90, 60, 30}\n{10, 80, 50, 20, 500, 90, 60, 30}\n{10, 80, 50, 20, 500, 90, 60, 30}\n{10, 80, 50, 20, 500, 90, 60, 30}\n{10, 80, 50, 20, 500, 90, 60, 30}\n{10, 80, 50, 20, 500, 90, 60, 30}\n{10, 80, 50, 20, 500, 90, 60, 30}\n"
        }
      ],
      "execution_count": 34
    },
    {
      "id": "f475bde1-a7cf-4f08-9b60-6f18a34d5b66",
      "cell_type": "code",
      "source": "u={10, 20, 30, 50, 60, 80, 90, 500,88,900,1000,55,66,77,88,99,444,555,666}",
      "metadata": {
        "trusted": true
      },
      "outputs": [],
      "execution_count": 35
    },
    {
      "id": "33915481-bd46-44c9-9465-a35d49d935a2",
      "cell_type": "code",
      "source": "s.issubset(u)",
      "metadata": {
        "trusted": true
      },
      "outputs": [
        {
          "execution_count": 36,
          "output_type": "execute_result",
          "data": {
            "text/plain": "True"
          },
          "metadata": {}
        }
      ],
      "execution_count": 36
    },
    {
      "id": "e07d4a67-542b-4493-bec7-5b566cf330dd",
      "cell_type": "code",
      "source": "s.issuperset(u)",
      "metadata": {
        "trusted": true
      },
      "outputs": [
        {
          "execution_count": 37,
          "output_type": "execute_result",
          "data": {
            "text/plain": "False"
          },
          "metadata": {}
        }
      ],
      "execution_count": 37
    },
    {
      "id": "5f1f460b-0a4a-4841-869b-8e8af27d11ef",
      "cell_type": "code",
      "source": "u.issubset(s)",
      "metadata": {
        "trusted": true
      },
      "outputs": [
        {
          "execution_count": 38,
          "output_type": "execute_result",
          "data": {
            "text/plain": "False"
          },
          "metadata": {}
        }
      ],
      "execution_count": 38
    },
    {
      "id": "a64b545c-7a16-44ab-9a98-bf417069af5a",
      "cell_type": "code",
      "source": "u.issuperset(s)",
      "metadata": {
        "trusted": true
      },
      "outputs": [
        {
          "execution_count": 39,
          "output_type": "execute_result",
          "data": {
            "text/plain": "True"
          },
          "metadata": {}
        }
      ],
      "execution_count": 39
    },
    {
      "id": "37530c6a-33f1-4ed0-8492-b166415430d0",
      "cell_type": "code",
      "source": "s.union(u)",
      "metadata": {
        "trusted": true
      },
      "outputs": [
        {
          "execution_count": 41,
          "output_type": "execute_result",
          "data": {
            "text/plain": "{10, 20, 30, 50, 55, 60, 66, 77, 80, 88, 90, 99, 444, 500, 555, 666, 900, 1000}"
          },
          "metadata": {}
        }
      ],
      "execution_count": 41
    },
    {
      "id": "e2790263-83d7-4464-821d-e550b48ed3ea",
      "cell_type": "code",
      "source": "s.intersection(u)",
      "metadata": {
        "trusted": true
      },
      "outputs": [
        {
          "execution_count": 42,
          "output_type": "execute_result",
          "data": {
            "text/plain": "{10, 20, 30, 50, 60, 80, 90, 500}"
          },
          "metadata": {}
        }
      ],
      "execution_count": 42
    },
    {
      "id": "795950b9-4da5-45f5-b6c7-8b582fcaf41d",
      "cell_type": "code",
      "source": "print('s=', s)\nprint('u=', u)",
      "metadata": {
        "trusted": true
      },
      "outputs": [
        {
          "name": "stdout",
          "output_type": "stream",
          "text": "s= {10, 80, 50, 20, 500, 90, 60, 30}\nu= {66, 900, 10, 77, 80, 20, 88, 90, 666, 30, 99, 1000, 555, 50, 500, 55, 444, 60}\n"
        }
      ],
      "execution_count": 44
    },
    {
      "id": "c5babfb6-3d99-4a74-b68b-f9c926abae1c",
      "cell_type": "code",
      "source": "print('s=', s.union(u)) # combined all elemnts in both sets and we can use {s|u}\nprint('u=', s.intersection(u)) # common elements will be printed on both sets  and we use{s&u}",
      "metadata": {
        "trusted": true
      },
      "outputs": [
        {
          "name": "stdout",
          "output_type": "stream",
          "text": "s= {66, 900, 10, 77, 80, 20, 88, 90, 666, 30, 99, 1000, 555, 50, 500, 55, 444, 60}\nu= {10, 80, 50, 500, 20, 90, 60, 30}\n"
        }
      ],
      "execution_count": 49
    },
    {
      "id": "3376ac8b-325d-423b-a777-7caa2715e20d",
      "cell_type": "code",
      "source": "s<=u",
      "metadata": {
        "trusted": true
      },
      "outputs": [
        {
          "execution_count": 46,
          "output_type": "execute_result",
          "data": {
            "text/plain": "True"
          },
          "metadata": {}
        }
      ],
      "execution_count": 46
    },
    {
      "id": "bb406e66-1e35-414c-915a-99b3d156db2f",
      "cell_type": "code",
      "source": "s>=u",
      "metadata": {
        "trusted": true
      },
      "outputs": [
        {
          "execution_count": 47,
          "output_type": "execute_result",
          "data": {
            "text/plain": "False"
          },
          "metadata": {}
        }
      ],
      "execution_count": 47
    },
    {
      "id": "51dd63db-0a66-4fce-8aff-bbadbe204698",
      "cell_type": "code",
      "source": "s|u",
      "metadata": {
        "trusted": true
      },
      "outputs": [
        {
          "execution_count": 48,
          "output_type": "execute_result",
          "data": {
            "text/plain": "{10, 20, 30, 50, 55, 60, 66, 77, 80, 88, 90, 99, 444, 500, 555, 666, 900, 1000}"
          },
          "metadata": {}
        }
      ],
      "execution_count": 48
    },
    {
      "id": "e92bad86-705e-4261-a177-195c8f516e24",
      "cell_type": "code",
      "source": "s&u",
      "metadata": {
        "trusted": true
      },
      "outputs": [
        {
          "execution_count": 51,
          "output_type": "execute_result",
          "data": {
            "text/plain": "{10, 20, 30, 50, 60, 80, 90, 500}"
          },
          "metadata": {}
        }
      ],
      "execution_count": 51
    },
    {
      "id": "7118ff9d-f613-4b78-8312-aa8b1a4b8daf",
      "cell_type": "code",
      "source": "s.difference(u)",
      "metadata": {
        "trusted": true
      },
      "outputs": [
        {
          "execution_count": 52,
          "output_type": "execute_result",
          "data": {
            "text/plain": "set()"
          },
          "metadata": {}
        }
      ],
      "execution_count": 52
    },
    {
      "id": "1201c42c-1fdb-4426-a7bd-5835b02a1310",
      "cell_type": "code",
      "source": "j={10, 20, 30, 50, 60, 80, 90, 500}\nk={10, 20, 30, 50, 55, 60, 66, 77, 80, 88, 90, 99, 444, 500, 555, 666, 900, 1000}\n",
      "metadata": {
        "trusted": true
      },
      "outputs": [],
      "execution_count": 53
    },
    {
      "id": "2b916c6d-38ec-41ce-bcad-ce4cc3c6d471",
      "cell_type": "code",
      "source": "j.difference(k) #j-k",
      "metadata": {
        "trusted": true
      },
      "outputs": [
        {
          "execution_count": 54,
          "output_type": "execute_result",
          "data": {
            "text/plain": "set()"
          },
          "metadata": {}
        }
      ],
      "execution_count": 54
    },
    {
      "id": "b477b302-3427-4fd0-95de-13ff924311a7",
      "cell_type": "code",
      "source": "k.difference(j) #k-j",
      "metadata": {
        "trusted": true
      },
      "outputs": [
        {
          "execution_count": 55,
          "output_type": "execute_result",
          "data": {
            "text/plain": "{55, 66, 77, 88, 99, 444, 555, 666, 900, 1000}"
          },
          "metadata": {}
        }
      ],
      "execution_count": 55
    },
    {
      "id": "cf3ed591-ede8-4fd4-81b4-7cda19c9a587",
      "cell_type": "code",
      "source": "j.update(k)",
      "metadata": {
        "trusted": true
      },
      "outputs": [],
      "execution_count": 57
    },
    {
      "id": "0d27daea-32ce-4b80-a32c-478a9c8e83fc",
      "cell_type": "code",
      "source": "j",
      "metadata": {
        "trusted": true
      },
      "outputs": [
        {
          "execution_count": 58,
          "output_type": "execute_result",
          "data": {
            "text/plain": "{10, 20, 30, 50, 55, 60, 66, 77, 80, 88, 90, 99, 444, 500, 555, 666, 900, 1000}"
          },
          "metadata": {}
        }
      ],
      "execution_count": 58
    },
    {
      "id": "e3183036-5893-4f25-87ac-521c0ba629fe",
      "cell_type": "code",
      "source": "j.copy(k)",
      "metadata": {
        "trusted": true
      },
      "outputs": [
        {
          "ename": "<class 'TypeError'>",
          "evalue": "set.copy() takes no arguments (1 given)",
          "traceback": [
            "\u001b[0;31m---------------------------------------------------------------------------\u001b[0m",
            "\u001b[0;31mTypeError\u001b[0m                                 Traceback (most recent call last)",
            "Cell \u001b[0;32mIn[60], line 1\u001b[0m\n\u001b[0;32m----> 1\u001b[0m \u001b[43mj\u001b[49m\u001b[38;5;241;43m.\u001b[39;49m\u001b[43mcopy\u001b[49m\u001b[43m(\u001b[49m\u001b[43mk\u001b[49m\u001b[43m)\u001b[49m\n",
            "\u001b[0;31mTypeError\u001b[0m: set.copy() takes no arguments (1 given)"
          ],
          "output_type": "error"
        }
      ],
      "execution_count": 60
    },
    {
      "id": "58b69b6f-c38c-4a8a-a0f4-752b072b98b2",
      "cell_type": "code",
      "source": "j.intersection(k) #common elements are updated ",
      "metadata": {
        "trusted": true
      },
      "outputs": [
        {
          "execution_count": 61,
          "output_type": "execute_result",
          "data": {
            "text/plain": "{10, 20, 30, 50, 55, 60, 66, 77, 80, 88, 90, 99, 444, 500, 555, 666, 900, 1000}"
          },
          "metadata": {}
        }
      ],
      "execution_count": 61
    },
    {
      "id": "5436341c-a8eb-457a-aa78-bccf06e55173",
      "cell_type": "code",
      "source": "j",
      "metadata": {
        "trusted": true
      },
      "outputs": [
        {
          "execution_count": 63,
          "output_type": "execute_result",
          "data": {
            "text/plain": "{10, 20, 30, 50, 55, 60, 66, 77, 80, 88, 90, 99, 444, 500, 555, 666, 900, 1000}"
          },
          "metadata": {}
        }
      ],
      "execution_count": 63
    },
    {
      "id": "0ccc119d-c4ed-4e88-8ee1-07c47de32ce1",
      "cell_type": "code",
      "source": "k",
      "metadata": {
        "trusted": true
      },
      "outputs": [
        {
          "execution_count": 64,
          "output_type": "execute_result",
          "data": {
            "text/plain": "{10, 20, 30, 50, 55, 60, 66, 77, 80, 88, 90, 99, 444, 500, 555, 666, 900, 1000}"
          },
          "metadata": {}
        }
      ],
      "execution_count": 64
    },
    {
      "id": "ce042223-1f11-42ca-9900-12d557c36177",
      "cell_type": "code",
      "source": "i={10, 20, 30, 50}",
      "metadata": {
        "trusted": true
      },
      "outputs": [],
      "execution_count": 65
    },
    {
      "id": "e6821c82-ecee-44dd-81dc-e96781bb7bbe",
      "cell_type": "code",
      "source": "i={10, 20, 30, 50}\no={66, 77, 80, 88, 90, 99}",
      "metadata": {
        "trusted": true
      },
      "outputs": [],
      "execution_count": 70
    },
    {
      "id": "e314c5ec-4edf-499b-8822-6d3af1880de1",
      "cell_type": "code",
      "source": "i.intersection_update(o)",
      "metadata": {
        "trusted": true
      },
      "outputs": [],
      "execution_count": 80
    },
    {
      "id": "1c8ced5e-62c4-4a09-b54b-6cd76119253a",
      "cell_type": "code",
      "source": "j=k.copy()",
      "metadata": {
        "trusted": true
      },
      "outputs": [],
      "execution_count": 81
    },
    {
      "id": "13c9b936-597a-4516-b98c-a689eebd99cd",
      "cell_type": "code",
      "source": "j",
      "metadata": {
        "trusted": true
      },
      "outputs": [
        {
          "execution_count": 82,
          "output_type": "execute_result",
          "data": {
            "text/plain": "{10, 20, 30, 50, 55, 60, 66, 77, 80, 88, 90, 99, 444, 500, 555, 666, 900, 1000}"
          },
          "metadata": {}
        }
      ],
      "execution_count": 82
    },
    {
      "id": "e61f7143-f36d-41af-b633-6e2aab07099f",
      "cell_type": "code",
      "source": "i=o.copy()",
      "metadata": {
        "trusted": true
      },
      "outputs": [],
      "execution_count": 83
    },
    {
      "id": "0de09b04-3c93-40fa-b5aa-449ef011433d",
      "cell_type": "code",
      "source": "i",
      "metadata": {
        "trusted": true
      },
      "outputs": [
        {
          "execution_count": 84,
          "output_type": "execute_result",
          "data": {
            "text/plain": "{66, 77, 80, 88, 90, 99}"
          },
          "metadata": {}
        }
      ],
      "execution_count": 84
    },
    {
      "id": "3829e5a0-7813-4762-a28e-5b2094c1533d",
      "cell_type": "code",
      "source": "n={10, 20, 30, 50}\nm={60,70,80,90}",
      "metadata": {
        "trusted": true
      },
      "outputs": [],
      "execution_count": 85
    },
    {
      "id": "2c05b36b-63ec-43e4-ba51-285a8f3b034c",
      "cell_type": "code",
      "source": "n=m.copy()",
      "metadata": {
        "trusted": true
      },
      "outputs": [],
      "execution_count": 86
    },
    {
      "id": "b9b6b2ca-c752-4b94-8882-9a713600cb5f",
      "cell_type": "code",
      "source": "n",
      "metadata": {
        "trusted": true
      },
      "outputs": [
        {
          "execution_count": 87,
          "output_type": "execute_result",
          "data": {
            "text/plain": "{60, 70, 80, 90}"
          },
          "metadata": {}
        }
      ],
      "execution_count": 87
    },
    {
      "id": "8f5e386e-b3a1-4995-832f-715e429d7a76",
      "cell_type": "code",
      "source": "m",
      "metadata": {
        "trusted": true
      },
      "outputs": [
        {
          "execution_count": 88,
          "output_type": "execute_result",
          "data": {
            "text/plain": "{60, 70, 80, 90}"
          },
          "metadata": {}
        }
      ],
      "execution_count": 88
    },
    {
      "id": "99819525-2f49-4408-aa80-519cf80c8234",
      "cell_type": "code",
      "source": "n.issubset(m)",
      "metadata": {
        "trusted": true
      },
      "outputs": [
        {
          "ename": "<class 'NameError'>",
          "evalue": "name 'n' is not defined",
          "traceback": [
            "\u001b[0;31m---------------------------------------------------------------------------\u001b[0m",
            "\u001b[0;31mNameError\u001b[0m                                 Traceback (most recent call last)",
            "Cell \u001b[0;32mIn[1], line 1\u001b[0m\n\u001b[0;32m----> 1\u001b[0m \u001b[43mn\u001b[49m\u001b[38;5;241m.\u001b[39missubset(m)\n",
            "\u001b[0;31mNameError\u001b[0m: name 'n' is not defined"
          ],
          "output_type": "error"
        }
      ],
      "execution_count": 1
    },
    {
      "id": "382fb77e-f7d8-4bdb-bb02-46e9cfd2ac70",
      "cell_type": "code",
      "source": "n.issuperset(m)",
      "metadata": {
        "trusted": true
      },
      "outputs": [
        {
          "ename": "<class 'NameError'>",
          "evalue": "name 'n' is not defined",
          "traceback": [
            "\u001b[0;31m---------------------------------------------------------------------------\u001b[0m",
            "\u001b[0;31mNameError\u001b[0m                                 Traceback (most recent call last)",
            "Cell \u001b[0;32mIn[2], line 1\u001b[0m\n\u001b[0;32m----> 1\u001b[0m \u001b[43mn\u001b[49m\u001b[38;5;241m.\u001b[39missuperset(m)\n",
            "\u001b[0;31mNameError\u001b[0m: name 'n' is not defined"
          ],
          "output_type": "error"
        }
      ],
      "execution_count": 2
    },
    {
      "id": "ad9e31af-6cf4-4be0-967f-e988ea48b7b3",
      "cell_type": "code",
      "source": "n",
      "metadata": {
        "trusted": true
      },
      "outputs": [
        {
          "ename": "<class 'NameError'>",
          "evalue": "name 'n' is not defined",
          "traceback": [
            "\u001b[0;31m---------------------------------------------------------------------------\u001b[0m",
            "\u001b[0;31mNameError\u001b[0m                                 Traceback (most recent call last)",
            "Cell \u001b[0;32mIn[3], line 1\u001b[0m\n\u001b[0;32m----> 1\u001b[0m \u001b[43mn\u001b[49m\n",
            "\u001b[0;31mNameError\u001b[0m: name 'n' is not defined"
          ],
          "output_type": "error"
        }
      ],
      "execution_count": 3
    },
    {
      "id": "6dbbe2fc-caf7-4a87-9ebb-8c9f7d95a14c",
      "cell_type": "code",
      "source": "n={10, 20, 30, 50}\nm={60,70,80,90}",
      "metadata": {
        "trusted": true
      },
      "outputs": [],
      "execution_count": 4
    },
    {
      "id": "4778fc8d-0c50-43cc-a0b3-e5727e97f191",
      "cell_type": "code",
      "source": "n.issubset(m)",
      "metadata": {
        "trusted": true
      },
      "outputs": [
        {
          "execution_count": 5,
          "output_type": "execute_result",
          "data": {
            "text/plain": "False"
          },
          "metadata": {}
        }
      ],
      "execution_count": 5
    },
    {
      "id": "212d660c-873b-40d7-b076-606dd16e77b1",
      "cell_type": "code",
      "source": "n.issuperset(m)",
      "metadata": {
        "trusted": true
      },
      "outputs": [
        {
          "execution_count": 7,
          "output_type": "execute_result",
          "data": {
            "text/plain": "False"
          },
          "metadata": {}
        }
      ],
      "execution_count": 7
    },
    {
      "id": "7891ef31-c7dd-4ac1-bbae-ad86e1f87daf",
      "cell_type": "code",
      "source": "m.issubset(n)",
      "metadata": {
        "trusted": true
      },
      "outputs": [
        {
          "execution_count": 8,
          "output_type": "execute_result",
          "data": {
            "text/plain": "False"
          },
          "metadata": {}
        }
      ],
      "execution_count": 8
    },
    {
      "id": "a362d63d-e86d-4d6f-a1b3-aa899b848ac4",
      "cell_type": "code",
      "source": "n.union(m)",
      "metadata": {
        "trusted": true
      },
      "outputs": [
        {
          "execution_count": 9,
          "output_type": "execute_result",
          "data": {
            "text/plain": "{10, 20, 30, 50, 60, 70, 80, 90}"
          },
          "metadata": {}
        }
      ],
      "execution_count": 9
    },
    {
      "id": "7098c6e1-bf6a-4816-b240-191b26f15c6b",
      "cell_type": "code",
      "source": "n.intersection(m)",
      "metadata": {
        "trusted": true
      },
      "outputs": [
        {
          "execution_count": 10,
          "output_type": "execute_result",
          "data": {
            "text/plain": "set()"
          },
          "metadata": {}
        }
      ],
      "execution_count": 10
    },
    {
      "id": "6055ad3f-ff35-458a-a040-6341e94e1304",
      "cell_type": "code",
      "source": "n.copy(m)",
      "metadata": {
        "trusted": true
      },
      "outputs": [
        {
          "ename": "<class 'TypeError'>",
          "evalue": "set.copy() takes no arguments (1 given)",
          "traceback": [
            "\u001b[0;31m---------------------------------------------------------------------------\u001b[0m",
            "\u001b[0;31mTypeError\u001b[0m                                 Traceback (most recent call last)",
            "Cell \u001b[0;32mIn[11], line 1\u001b[0m\n\u001b[0;32m----> 1\u001b[0m \u001b[43mn\u001b[49m\u001b[38;5;241;43m.\u001b[39;49m\u001b[43mcopy\u001b[49m\u001b[43m(\u001b[49m\u001b[43mm\u001b[49m\u001b[43m)\u001b[49m\n",
            "\u001b[0;31mTypeError\u001b[0m: set.copy() takes no arguments (1 given)"
          ],
          "output_type": "error"
        }
      ],
      "execution_count": 11
    },
    {
      "id": "f005a559-354f-4c6d-bd58-b1e1bc280ee3",
      "cell_type": "code",
      "source": "b=\"For Some reasonS we are CAnceling the meeting TOday\"",
      "metadata": {
        "trusted": true
      },
      "outputs": [],
      "execution_count": 12
    },
    {
      "id": "37b1d21d-23b0-4153-bef5-88f66a9ed8ce",
      "cell_type": "code",
      "source": "b.swapcase()",
      "metadata": {
        "trusted": true
      },
      "outputs": [
        {
          "execution_count": 13,
          "output_type": "execute_result",
          "data": {
            "text/plain": "'fOR sOME REASONs WE ARE caNCELING THE MEETING toDAY'"
          },
          "metadata": {}
        }
      ],
      "execution_count": 13
    },
    {
      "id": "cdb7af49-717e-497e-8545-1bdc93e8096a",
      "cell_type": "code",
      "source": "b.upper()",
      "metadata": {
        "trusted": true
      },
      "outputs": [
        {
          "execution_count": 14,
          "output_type": "execute_result",
          "data": {
            "text/plain": "'FOR SOME REASONS WE ARE CANCELING THE MEETING TODAY'"
          },
          "metadata": {}
        }
      ],
      "execution_count": 14
    },
    {
      "id": "6e6d7e72-0d8e-4ea1-8c2b-6d8927928b53",
      "cell_type": "code",
      "source": "b.lower()",
      "metadata": {
        "trusted": true
      },
      "outputs": [
        {
          "execution_count": 15,
          "output_type": "execute_result",
          "data": {
            "text/plain": "'for some reasons we are canceling the meeting today'"
          },
          "metadata": {}
        }
      ],
      "execution_count": 15
    },
    {
      "id": "1413cca4-e975-4901-8701-1e4d390d52ec",
      "cell_type": "code",
      "source": "for ele in b:\n    print(ele)",
      "metadata": {
        "trusted": true
      },
      "outputs": [
        {
          "name": "stdout",
          "output_type": "stream",
          "text": "F\no\nr\n \nS\no\nm\ne\n \nr\ne\na\ns\no\nn\nS\n \nw\ne\n \na\nr\ne\n \nC\nA\nn\nc\ne\nl\ni\nn\ng\n \nt\nh\ne\n \nm\ne\ne\nt\ni\nn\ng\n \nT\nO\nd\na\ny\n"
        }
      ],
      "execution_count": 17
    },
    {
      "id": "62e0c4bc-ea75-46f3-8a9e-b9cd3a3ce307",
      "cell_type": "code",
      "source": "n",
      "metadata": {
        "trusted": true
      },
      "outputs": [
        {
          "execution_count": 18,
          "output_type": "execute_result",
          "data": {
            "text/plain": "{10, 20, 30, 50}"
          },
          "metadata": {}
        }
      ],
      "execution_count": 18
    },
    {
      "id": "f53a535a-b0dd-4fb5-9a54-590c94be2840",
      "cell_type": "code",
      "source": "z={}",
      "metadata": {
        "trusted": true
      },
      "outputs": [],
      "execution_count": 1
    },
    {
      "id": "7da81dde-8780-44a4-ab7b-215f841f7e28",
      "cell_type": "code",
      "source": "type(z)",
      "metadata": {
        "trusted": true
      },
      "outputs": [
        {
          "execution_count": 2,
          "output_type": "execute_result",
          "data": {
            "text/plain": "dict"
          },
          "metadata": {}
        }
      ],
      "execution_count": 2
    },
    {
      "id": "e0cc0e49-c308-41b6-aaee-2f2741782b00",
      "cell_type": "code",
      "source": "# creating dictionary\n# upating \n# deleting: enter dictonary is deleted \n# clearing: elements only deleted \nz={\"name\": \"Sunnel\", \"id\": 8877}",
      "metadata": {
        "trusted": true
      },
      "outputs": [],
      "execution_count": 3
    },
    {
      "id": "16c496d7-e236-498d-befb-9edde1fb6c68",
      "cell_type": "code",
      "source": "z[\"name\"]",
      "metadata": {
        "trusted": true
      },
      "outputs": [
        {
          "execution_count": 5,
          "output_type": "execute_result",
          "data": {
            "text/plain": "'Sunnel'"
          },
          "metadata": {}
        }
      ],
      "execution_count": 5
    },
    {
      "id": "792a4b1a-3b7d-4a26-a3c2-79c7776e6ce8",
      "cell_type": "code",
      "source": "z[\"id\"]",
      "metadata": {
        "trusted": true
      },
      "outputs": [
        {
          "execution_count": 7,
          "output_type": "execute_result",
          "data": {
            "text/plain": "8877"
          },
          "metadata": {}
        }
      ],
      "execution_count": 7
    },
    {
      "id": "08c2cd37-778a-4f9f-9c93-2e3d68b9d8e9",
      "cell_type": "code",
      "source": "z[\"dept\"]=\"Developer\"",
      "metadata": {
        "trusted": true
      },
      "outputs": [],
      "execution_count": 10
    },
    {
      "id": "a4c34114-b6e9-4104-a05b-2681285302f5",
      "cell_type": "code",
      "source": "z{'location'}=\"Bangalore\"",
      "metadata": {
        "trusted": true
      },
      "outputs": [
        {
          "ename": "<class 'SyntaxError'>",
          "evalue": "invalid syntax (<ipython-input-11-9a8b5a1fcf55>, line 1)",
          "traceback": [
            "\u001b[0;36m  Cell \u001b[0;32mIn[11], line 1\u001b[0;36m\u001b[0m\n\u001b[0;31m    z{'location'}=\"Bangalore\"\u001b[0m\n\u001b[0m     ^\u001b[0m\n\u001b[0;31mSyntaxError\u001b[0m\u001b[0;31m:\u001b[0m invalid syntax\n"
          ],
          "output_type": "error"
        }
      ],
      "execution_count": 11
    },
    {
      "id": "6db5abba-71e4-4d45-a9c5-fde31c370921",
      "cell_type": "code",
      "source": "z['location']=\"Bangalore\"",
      "metadata": {
        "trusted": true
      },
      "outputs": [],
      "execution_count": 12
    },
    {
      "id": "24808b53-c312-4b96-8d65-6708083865dc",
      "cell_type": "code",
      "source": "type(z)",
      "metadata": {
        "trusted": true
      },
      "outputs": [
        {
          "execution_count": 13,
          "output_type": "execute_result",
          "data": {
            "text/plain": "dict"
          },
          "metadata": {}
        }
      ],
      "execution_count": 13
    },
    {
      "id": "63c4d191-28d8-4955-bfd5-3dabacac8dc8",
      "cell_type": "code",
      "source": "z",
      "metadata": {
        "trusted": true
      },
      "outputs": [
        {
          "execution_count": 14,
          "output_type": "execute_result",
          "data": {
            "text/plain": "{'name': 'Sunnel', 'id': 8877, 'dept': 'Developer', 'location': 'Bangalore'}"
          },
          "metadata": {}
        }
      ],
      "execution_count": 14
    },
    {
      "id": "8d05f918-a3a7-4ce7-9566-5595cf72b6c4",
      "cell_type": "code",
      "source": "z.clear()",
      "metadata": {
        "trusted": true
      },
      "outputs": [],
      "execution_count": 15
    },
    {
      "id": "a03a23a5-69e1-46ac-8fef-572192d6cd5a",
      "cell_type": "code",
      "source": "z",
      "metadata": {
        "trusted": true
      },
      "outputs": [
        {
          "execution_count": 16,
          "output_type": "execute_result",
          "data": {
            "text/plain": "{}"
          },
          "metadata": {}
        }
      ],
      "execution_count": 16
    },
    {
      "id": "3dbacf7c-4679-4074-b4d4-f18b46da1510",
      "cell_type": "code",
      "source": "z={'name': 'Sunnel', 'id': 8877, 'dept': 'Developer', 'location': 'Bangalore'}",
      "metadata": {
        "trusted": true
      },
      "outputs": [],
      "execution_count": 17
    },
    {
      "id": "5b58a7de-1aca-4373-b29a-f07d8a003206",
      "cell_type": "code",
      "source": "z['id']=8899",
      "metadata": {
        "trusted": true
      },
      "outputs": [],
      "execution_count": 20
    },
    {
      "id": "de1bc7dc-92ca-4834-a6a6-81c8f3172535",
      "cell_type": "code",
      "source": "z",
      "metadata": {
        "trusted": true
      },
      "outputs": [
        {
          "execution_count": 19,
          "output_type": "execute_result",
          "data": {
            "text/plain": "{'name': 'Sunnel',\n 'id': 8877,\n 'dept': 'Developer',\n 'location': 'Bangalore',\n <function id(obj, /)>: 8899}"
          },
          "metadata": {}
        }
      ],
      "execution_count": 19
    },
    {
      "id": "0aec3968-22d9-4297-8942-53fe2e0ecfaf",
      "cell_type": "code",
      "source": "z",
      "metadata": {
        "trusted": true
      },
      "outputs": [
        {
          "execution_count": 21,
          "output_type": "execute_result",
          "data": {
            "text/plain": "{'name': 'Sunnel',\n 'id': 8899,\n 'dept': 'Developer',\n 'location': 'Bangalore',\n <function id(obj, /)>: 8899}"
          },
          "metadata": {}
        }
      ],
      "execution_count": 21
    },
    {
      "id": "282cd5a4-1cbd-446b-aafc-f519293e3f93",
      "cell_type": "code",
      "source": "v={i:i**2 for i in range(14) if i%2==0}",
      "metadata": {
        "trusted": true
      },
      "outputs": [],
      "execution_count": 28
    },
    {
      "id": "73f74adf-a501-4de8-9c0a-6cbbce54c12b",
      "cell_type": "code",
      "source": "print('v=', v)",
      "metadata": {
        "trusted": true
      },
      "outputs": [
        {
          "name": "stdout",
          "output_type": "stream",
          "text": "v= {0: 0, 2: 4, 4: 16, 6: 36, 8: 64, 10: 100, 12: 144}\n"
        }
      ],
      "execution_count": 29
    },
    {
      "id": "428a2e01-9d9f-44b7-85a2-66de0d49c3d2",
      "cell_type": "code",
      "source": "c={j:j**3 for j in range(10) if j%3==0}",
      "metadata": {
        "trusted": true
      },
      "outputs": [],
      "execution_count": 33
    },
    {
      "id": "2ed3b1de-c33a-43ae-a875-e53e09ba62ad",
      "cell_type": "code",
      "source": "print('c=',c)",
      "metadata": {
        "trusted": true
      },
      "outputs": [
        {
          "name": "stdout",
          "output_type": "stream",
          "text": "c= {0: 0, 3: 27, 6: 216, 9: 729}\n"
        }
      ],
      "execution_count": 36
    },
    {
      "id": "122a5d38-1021-47e2-a8b3-a0dfa4c5299d",
      "cell_type": "code",
      "source": "n={l:l**5 for l in range(10) if l%5==0}",
      "metadata": {
        "trusted": true
      },
      "outputs": [],
      "execution_count": 37
    },
    {
      "id": "263c6ade-53a2-41a9-8a70-76f117b23b5c",
      "cell_type": "code",
      "source": "print('n=', n)",
      "metadata": {
        "trusted": true
      },
      "outputs": [
        {
          "name": "stdout",
          "output_type": "stream",
          "text": "n= {0: 0, 5: 3125}\n"
        }
      ],
      "execution_count": 38
    },
    {
      "id": "fb7d2f48-b911-4c60-98e8-ae7b186f83ec",
      "cell_type": "code",
      "source": "h=\" the python program have a build in functions\"",
      "metadata": {
        "trusted": true
      },
      "outputs": [],
      "execution_count": 39
    },
    {
      "id": "a7d4aa96-cb59-418e-8f97-f3f9cce1059a",
      "cell_type": "code",
      "source": "for ele in h:\n    print(ele)",
      "metadata": {
        "trusted": true
      },
      "outputs": [
        {
          "name": "stdout",
          "output_type": "stream",
          "text": " \nt\nh\ne\n \np\ny\nt\nh\no\nn\n \np\nr\no\ng\nr\na\nm\n \nh\na\nv\ne\n \na\n \nb\nu\ni\nl\nd\n \ni\nn\n \nf\nu\nn\nc\nt\ni\no\nn\ns\n"
        }
      ],
      "execution_count": 40
    },
    {
      "id": "bb4a013d-1867-4c70-9a99-a351adab4ccf",
      "cell_type": "code",
      "source": "h.upper()",
      "metadata": {
        "trusted": true
      },
      "outputs": [
        {
          "execution_count": 41,
          "output_type": "execute_result",
          "data": {
            "text/plain": "' THE PYTHON PROGRAM HAVE A BUILD IN FUNCTIONS'"
          },
          "metadata": {}
        }
      ],
      "execution_count": 41
    },
    {
      "id": "cd271e9d-080a-4cb6-903b-cfa814ee940e",
      "cell_type": "code",
      "source": "h.lower()",
      "metadata": {
        "trusted": true
      },
      "outputs": [
        {
          "execution_count": 42,
          "output_type": "execute_result",
          "data": {
            "text/plain": "' the python program have a build in functions'"
          },
          "metadata": {}
        }
      ],
      "execution_count": 42
    },
    {
      "id": "94505a6a-3b91-49e1-b63e-850c77625014",
      "cell_type": "code",
      "source": "j=\" moduls: list sets dictionary\"",
      "metadata": {
        "trusted": true
      },
      "outputs": [],
      "execution_count": 44
    },
    {
      "id": "9df5dcce-4e87-45cd-b44f-c66d53e1a70c",
      "cell_type": "code",
      "source": "j",
      "metadata": {
        "trusted": true
      },
      "outputs": [
        {
          "execution_count": 48,
          "output_type": "execute_result",
          "data": {
            "text/plain": "' moduls: list sets dictionary'"
          },
          "metadata": {}
        }
      ],
      "execution_count": 48
    },
    {
      "id": "95afbf15-b755-4337-9505-f56b44b04aed",
      "cell_type": "code",
      "source": "h=j.copy()",
      "metadata": {
        "trusted": true
      },
      "outputs": [
        {
          "ename": "<class 'AttributeError'>",
          "evalue": "'str' object has no attribute 'copy'",
          "traceback": [
            "\u001b[0;31m---------------------------------------------------------------------------\u001b[0m",
            "\u001b[0;31mAttributeError\u001b[0m                            Traceback (most recent call last)",
            "Cell \u001b[0;32mIn[49], line 1\u001b[0m\n\u001b[0;32m----> 1\u001b[0m h\u001b[38;5;241m=\u001b[39m\u001b[43mj\u001b[49m\u001b[38;5;241;43m.\u001b[39;49m\u001b[43mcopy\u001b[49m()\n",
            "\u001b[0;31mAttributeError\u001b[0m: 'str' object has no attribute 'copy'"
          ],
          "output_type": "error"
        }
      ],
      "execution_count": 49
    },
    {
      "id": "cb80ff84-ecfc-4c4c-8395-50234b8fa73f",
      "cell_type": "code",
      "source": "k={'a':1, 'b':2, 'c':3}",
      "metadata": {
        "trusted": true
      },
      "outputs": [],
      "execution_count": 50
    },
    {
      "id": "bb477620-b801-4df9-af1c-5adb18d35b36",
      "cell_type": "code",
      "source": "k.items()",
      "metadata": {
        "trusted": true
      },
      "outputs": [
        {
          "execution_count": 51,
          "output_type": "execute_result",
          "data": {
            "text/plain": "dict_items([('a', 1), ('b', 2), ('c', 3)])"
          },
          "metadata": {}
        }
      ],
      "execution_count": 51
    },
    {
      "id": "bb045d11-9fd3-425e-9942-e19ccb200255",
      "cell_type": "code",
      "source": "k.values()",
      "metadata": {
        "trusted": true
      },
      "outputs": [
        {
          "execution_count": 54,
          "output_type": "execute_result",
          "data": {
            "text/plain": "dict_values([1, 2, 3])"
          },
          "metadata": {}
        }
      ],
      "execution_count": 54
    },
    {
      "id": "e798e56f-38a0-4b9f-9370-55bd8a033137",
      "cell_type": "code",
      "source": "z={'name':{'fname':'Sunnel', \"lname\":'kumar'},'id':{'id1': 8877, 'labid':\"lab8877\"},'dept':{'dept': 'Developer'}, 'location': 'Bangalore'}",
      "metadata": {
        "trusted": true
      },
      "outputs": [],
      "execution_count": 71
    },
    {
      "id": "929162e9-191f-4f07-8f07-ae0dc3103045",
      "cell_type": "code",
      "source": "z['name']",
      "metadata": {
        "trusted": true
      },
      "outputs": [
        {
          "execution_count": 72,
          "output_type": "execute_result",
          "data": {
            "text/plain": "{'fname': 'Sunnel', 'lname': 'kumar'}"
          },
          "metadata": {}
        }
      ],
      "execution_count": 72
    },
    {
      "id": "c746bb52-e2c0-449c-9825-d4106a4fab8d",
      "cell_type": "code",
      "source": "z['name']['fname']",
      "metadata": {
        "trusted": true
      },
      "outputs": [
        {
          "execution_count": 73,
          "output_type": "execute_result",
          "data": {
            "text/plain": "'Sunnel'"
          },
          "metadata": {}
        }
      ],
      "execution_count": 73
    },
    {
      "id": "03c66c30-7bab-4ad9-b1f1-6f66dbe700b1",
      "cell_type": "code",
      "source": "z['name']['lname']",
      "metadata": {
        "trusted": true
      },
      "outputs": [
        {
          "execution_count": 74,
          "output_type": "execute_result",
          "data": {
            "text/plain": "'kumar'"
          },
          "metadata": {}
        }
      ],
      "execution_count": 74
    },
    {
      "id": "ad49116c-3c6d-4140-a5f0-3059fde1e0be",
      "cell_type": "code",
      "source": "z['id']",
      "metadata": {
        "trusted": true
      },
      "outputs": [
        {
          "execution_count": 78,
          "output_type": "execute_result",
          "data": {
            "text/plain": "{'id1': 8877, 'labid': 'lab8877'}"
          },
          "metadata": {}
        }
      ],
      "execution_count": 78
    },
    {
      "id": "3b6d3985-c44d-45e7-86b5-ed9ae3ba1cbc",
      "cell_type": "code",
      "source": "z['name'],['id']",
      "metadata": {
        "trusted": true
      },
      "outputs": [
        {
          "execution_count": 80,
          "output_type": "execute_result",
          "data": {
            "text/plain": "({'fname': 'Sunnel', 'lname': 'kumar'}, ['id'])"
          },
          "metadata": {}
        }
      ],
      "execution_count": 80
    },
    {
      "id": "60deeef4-434b-44f8-8b21-9947eabcec3b",
      "cell_type": "code",
      "source": "z['name'],['id'],['dept']",
      "metadata": {
        "trusted": true
      },
      "outputs": [
        {
          "execution_count": 83,
          "output_type": "execute_result",
          "data": {
            "text/plain": "({'fname': 'Sunnel', 'lname': 'kumar'}, ['id'], ['dept'])"
          },
          "metadata": {}
        }
      ],
      "execution_count": 83
    },
    {
      "id": "277b82e3-663b-4709-9389-6ce07bdd7ea9",
      "cell_type": "code",
      "source": "# items\n# values\n# keys form dictonary \n# copy and update\n\nk={'a':1, 'b':2, 'c':3}\n\n",
      "metadata": {
        "trusted": true
      },
      "outputs": [],
      "execution_count": 89
    },
    {
      "id": "6cb058a1-92da-44ba-aa98-f08d60c84f5f",
      "cell_type": "code",
      "source": "k.items()",
      "metadata": {
        "trusted": true
      },
      "outputs": [
        {
          "execution_count": 85,
          "output_type": "execute_result",
          "data": {
            "text/plain": "dict_items([('a', 1), ('b', 2), ('c', 3)])"
          },
          "metadata": {}
        }
      ],
      "execution_count": 85
    },
    {
      "id": "094091cd-72f4-44d5-b08e-f58507f041db",
      "cell_type": "code",
      "source": "k.values()",
      "metadata": {
        "trusted": true
      },
      "outputs": [
        {
          "execution_count": 86,
          "output_type": "execute_result",
          "data": {
            "text/plain": "dict_values([1, 2, 3])"
          },
          "metadata": {}
        }
      ],
      "execution_count": 86
    },
    {
      "id": "2b548aeb-c646-4002-a32e-82de8b4a4b4d",
      "cell_type": "code",
      "source": "k.keys()",
      "metadata": {
        "trusted": true
      },
      "outputs": [
        {
          "execution_count": 87,
          "output_type": "execute_result",
          "data": {
            "text/plain": "dict_keys(['a', 'b', 'c'])"
          },
          "metadata": {}
        }
      ],
      "execution_count": 87
    },
    {
      "id": "35e3a0f9-0a42-4213-a649-d6e457b2b23f",
      "cell_type": "code",
      "source": "print('k=', k.items())\nprint('k=', k.values())\nprint('k=', k.keys())\n",
      "metadata": {
        "trusted": true
      },
      "outputs": [
        {
          "name": "stdout",
          "output_type": "stream",
          "text": "k= dict_items([('a', 1), ('b', 2), ('c', 3)])\nk= dict_values([1, 2, 3])\nk= dict_keys(['a', 'b', 'c'])\n"
        }
      ],
      "execution_count": 92
    },
    {
      "id": "7921dee8-9b59-48e6-88e9-5df8b456b00e",
      "cell_type": "code",
      "source": "m=k.copy()",
      "metadata": {
        "trusted": true
      },
      "outputs": [],
      "execution_count": 93
    },
    {
      "id": "8519ca49-a093-4d3d-8900-fa205181f89c",
      "cell_type": "code",
      "source": "print('m=', m)",
      "metadata": {
        "trusted": true
      },
      "outputs": [
        {
          "name": "stdout",
          "output_type": "stream",
          "text": "m= {'a': 1, 'b': 2, 'c': 3}\n"
        }
      ],
      "execution_count": 94
    },
    {
      "id": "46fc84b4-ab7f-4bc4-a76f-f57b95baeb4f",
      "cell_type": "code",
      "source": "# FUNCTIONS\ndef add(a, b):\n        return a + b\nresult = add(5, 3)\nprint(result)",
      "metadata": {
        "trusted": true
      },
      "outputs": [
        {
          "name": "stdout",
          "output_type": "stream",
          "text": "8\n"
        }
      ],
      "execution_count": 103
    },
    {
      "id": "5dd47da6-419d-4a88-85a7-6adda42bdf85",
      "cell_type": "code",
      "source": "def display(str):\n    print(\" hello\", str , \"a\")\nstr= \"how you\"\ndisplay(str)\n",
      "metadata": {
        "trusted": true
      },
      "outputs": [
        {
          "name": "stdout",
          "output_type": "stream",
          "text": " hello how you a\n"
        }
      ],
      "execution_count": 116
    },
    {
      "id": "045a6e27-081d-4c3f-bba3-cb0f183871f1",
      "cell_type": "code",
      "source": "def add(a,b):\n    return a+b\nres = add(25,55)\nprint(res)",
      "metadata": {
        "trusted": true
      },
      "outputs": [
        {
          "name": "stdout",
          "output_type": "stream",
          "text": "80\n"
        }
      ],
      "execution_count": 118
    },
    {
      "id": "3722acdd-9d22-4202-a82d-bf85fdaff51d",
      "cell_type": "code",
      "source": "def g(c,d):\n    return c/d*4\nres = g(100, 10)\nprint(res)\n    \n",
      "metadata": {
        "trusted": true
      },
      "outputs": [
        {
          "name": "stdout",
          "output_type": "stream",
          "text": "40.0\n"
        }
      ],
      "execution_count": 127
    },
    {
      "id": "c846f3f0-b95a-4dc9-aa88-f2a76085db3a",
      "cell_type": "code",
      "source": "for i in range(20):\n    if i==9:\n        print(i)\n        ",
      "metadata": {
        "trusted": true
      },
      "outputs": [
        {
          "name": "stdout",
          "output_type": "stream",
          "text": "9\n"
        }
      ],
      "execution_count": 137
    },
    {
      "id": "5f96feeb-ab2a-4d46-b74e-cd7c42e9c9fd",
      "cell_type": "code",
      "source": "# Default arguments\ndef add(a,b=20):\n    return a+b\nadd(200)\nadd(500,600)\n    \n",
      "metadata": {
        "trusted": true
      },
      "outputs": [
        {
          "execution_count": 1,
          "output_type": "execute_result",
          "data": {
            "text/plain": "1100"
          },
          "metadata": {}
        }
      ],
      "execution_count": 1
    },
    {
      "id": "e346b906-2a4f-4372-8f5c-450297a80861",
      "cell_type": "code",
      "source": "def display(a=200,b):\n    print(a,b)\ndisplay(b=100)\n",
      "metadata": {
        "trusted": true
      },
      "outputs": [
        {
          "ename": "<class 'SyntaxError'>",
          "evalue": "parameter without a default follows parameter with a default (<ipython-input-12-88e6827d7242>, line 1)",
          "traceback": [
            "\u001b[0;36m  Cell \u001b[0;32mIn[12], line 1\u001b[0;36m\u001b[0m\n\u001b[0;31m    def display(a=200, b):\u001b[0m\n\u001b[0m                       ^\u001b[0m\n\u001b[0;31mSyntaxError\u001b[0m\u001b[0;31m:\u001b[0m parameter without a default follows parameter with a default\n"
          ],
          "output_type": "error"
        }
      ],
      "execution_count": 12
    },
    {
      "id": "ee05826a-b193-4d73-bed5-272abf0931e4",
      "cell_type": "code",
      "source": "#keyword arguments:\n\ndef display(a,b,c):\n    print(a,b,c)\ndisplay(a=200,b=100, c=500)\n",
      "metadata": {
        "trusted": true
      },
      "outputs": [
        {
          "name": "stdout",
          "output_type": "stream",
          "text": "200 100 500\n"
        }
      ],
      "execution_count": 13
    },
    {
      "id": "281036fb-0011-4cba-9af6-dfafb14e4bad",
      "cell_type": "code",
      "source": "def display(a,b,c):\n    print(a,b,c)\ndisplay(a=200,c=100, b=500)",
      "metadata": {
        "trusted": true
      },
      "outputs": [
        {
          "name": "stdout",
          "output_type": "stream",
          "text": "200 500 100\n"
        }
      ],
      "execution_count": 14
    },
    {
      "id": "7673a785-26fa-4849-8f24-53cba58a73b9",
      "cell_type": "code",
      "source": "def display(a,b,c):\n    print(a,b,c)\ndisplay(c=200,b=100, a=500)",
      "metadata": {
        "trusted": true
      },
      "outputs": [
        {
          "name": "stdout",
          "output_type": "stream",
          "text": "500 100 200\n"
        }
      ],
      "execution_count": 16
    },
    {
      "id": "f173f526-c57d-4657-9e78-b72bc401c4dc",
      "cell_type": "code",
      "source": "# Arbitary arguments: By using * we can assigna multiple values to one argument\ndef display(*marks):\n    print(marks)\ndisplay(10,20,30,88,99,44)",
      "metadata": {
        "trusted": true
      },
      "outputs": [
        {
          "name": "stdout",
          "output_type": "stream",
          "text": "(10, 20, 30, 88, 99, 44)\n"
        }
      ],
      "execution_count": 19
    },
    {
      "id": "f8951304-bdf8-4919-85d1-16f1a7245209",
      "cell_type": "code",
      "source": "def display(*marks):\n    print(marks[1])\ndisplay(10,20,30,88,99,44)",
      "metadata": {
        "trusted": true
      },
      "outputs": [
        {
          "name": "stdout",
          "output_type": "stream",
          "text": "20\n"
        }
      ],
      "execution_count": 20
    },
    {
      "id": "3aa9bee9-ea9c-42d6-9b00-2c05f0111b3f",
      "cell_type": "code",
      "source": "def display(*marks):\n    print(marks[1],marks[2], marks[0]) # by using index also we can access the vales \ndisplay(10,20,30,88,99,44)",
      "metadata": {
        "trusted": true
      },
      "outputs": [
        {
          "name": "stdout",
          "output_type": "stream",
          "text": "20 30 10\n"
        }
      ],
      "execution_count": 23
    },
    {
      "id": "0310f992-8b3c-485e-8c29-7522e3365eea",
      "cell_type": "code",
      "source": "# local and global varibles\na=100\ndef display():\n    a=500\ndisplay()\nprint(a)    ",
      "metadata": {
        "trusted": true
      },
      "outputs": [
        {
          "name": "stdout",
          "output_type": "stream",
          "text": "100\n"
        }
      ],
      "execution_count": 2
    },
    {
      "id": "642bdb2a-048f-4020-8307-1db3d3cbcf2e",
      "cell_type": "code",
      "source": "# lambda Function {ananamous function}\n\n\nadd= lambda a,b: a+b",
      "metadata": {
        "trusted": true
      },
      "outputs": [],
      "execution_count": 3
    },
    {
      "id": "57a8fc99-20db-436b-9f7c-8ed6054da060",
      "cell_type": "code",
      "source": "add(200, 3000)",
      "metadata": {
        "trusted": true
      },
      "outputs": [
        {
          "execution_count": 5,
          "output_type": "execute_result",
          "data": {
            "text/plain": "3200"
          },
          "metadata": {}
        }
      ],
      "execution_count": 5
    },
    {
      "id": "63bf4dcd-2b68-4c28-99ed-1d371e1222e9",
      "cell_type": "code",
      "source": "add= lambda a,b,c: a+b+c",
      "metadata": {
        "trusted": true
      },
      "outputs": [],
      "execution_count": 6
    },
    {
      "id": "41234e98-21b9-42f1-852b-a8b8860eb906",
      "cell_type": "code",
      "source": "add(200,300,500)",
      "metadata": {
        "trusted": true
      },
      "outputs": [
        {
          "execution_count": 7,
          "output_type": "execute_result",
          "data": {
            "text/plain": "1000"
          },
          "metadata": {}
        }
      ],
      "execution_count": 7
    },
    {
      "id": "59ffc40e-3199-4326-80c8-72b44f55e606",
      "cell_type": "code",
      "source": "add= lambda a,b,c: a+b+c\n",
      "metadata": {
        "trusted": true
      },
      "outputs": [],
      "execution_count": 9
    },
    {
      "id": "cee92205-8817-49b7-9b67-47ebf367c4ac",
      "cell_type": "code",
      "source": "add(100,200,300,400)",
      "metadata": {
        "trusted": true
      },
      "outputs": [
        {
          "ename": "<class 'TypeError'>",
          "evalue": "<lambda>() takes 3 positional arguments but 4 were given",
          "traceback": [
            "\u001b[0;31m---------------------------------------------------------------------------\u001b[0m",
            "\u001b[0;31mTypeError\u001b[0m                                 Traceback (most recent call last)",
            "Cell \u001b[0;32mIn[10], line 1\u001b[0m\n\u001b[0;32m----> 1\u001b[0m \u001b[43madd\u001b[49m\u001b[43m(\u001b[49m\u001b[38;5;241;43m100\u001b[39;49m\u001b[43m,\u001b[49m\u001b[38;5;241;43m200\u001b[39;49m\u001b[43m,\u001b[49m\u001b[38;5;241;43m300\u001b[39;49m\u001b[43m,\u001b[49m\u001b[38;5;241;43m400\u001b[39;49m\u001b[43m)\u001b[49m\n",
            "\u001b[0;31mTypeError\u001b[0m: <lambda>() takes 3 positional arguments but 4 were given"
          ],
          "output_type": "error"
        }
      ],
      "execution_count": 10
    },
    {
      "id": "e93deeed-ed9a-4ea4-bbe8-a74652de577f",
      "cell_type": "code",
      "source": "add= lambda a,b,c,d:a+b+c+d",
      "metadata": {
        "trusted": true
      },
      "outputs": [],
      "execution_count": 14
    },
    {
      "id": "5e7bf445-6f07-404b-9c7f-417972017447",
      "cell_type": "code",
      "source": "add(100,200,300,2)",
      "metadata": {
        "trusted": true
      },
      "outputs": [
        {
          "execution_count": 22,
          "output_type": "execute_result",
          "data": {
            "text/plain": "900"
          },
          "metadata": {}
        }
      ],
      "execution_count": 22
    },
    {
      "id": "a0c57431-9513-40f1-9c5e-f42b8cc66c24",
      "cell_type": "code",
      "source": "add= lambda a,b,c,d:a+b+c*d",
      "metadata": {
        "trusted": true
      },
      "outputs": [],
      "execution_count": 23
    },
    {
      "id": "b2e277dd-e073-4e4a-bc58-f22d2ff05a76",
      "cell_type": "code",
      "source": "add(100,200,300,2)",
      "metadata": {
        "trusted": true
      },
      "outputs": [
        {
          "execution_count": 24,
          "output_type": "execute_result",
          "data": {
            "text/plain": "900"
          },
          "metadata": {}
        }
      ],
      "execution_count": 24
    },
    {
      "id": "2bfb20c7-937b-4973-aec7-983ebae2671c",
      "cell_type": "code",
      "source": "# Recurssion\n# to stop recurssion function we need a one base condision\ndef fact(n):\n    if n==0 or n==1:\n        return 1\n    else:\n        return n*fact(n-1)\nprint(fact(5))",
      "metadata": {
        "trusted": true
      },
      "outputs": [
        {
          "name": "stdout",
          "output_type": "stream",
          "text": "120\n"
        }
      ],
      "execution_count": 28
    },
    {
      "id": "7b8380c5-fb39-4cb8-90b6-b479bc1bbcd6",
      "cell_type": "code",
      "source": "def fact(a):\n    if a==1:\n        return 1\n    else:\n        return a*fact(a-1)\nprint(fact(6))",
      "metadata": {
        "trusted": true
      },
      "outputs": [
        {
          "name": "stdout",
          "output_type": "stream",
          "text": "720\n"
        }
      ],
      "execution_count": 30
    },
    {
      "id": "58764779-e194-47bd-8a68-f3ced409c7d7",
      "cell_type": "code",
      "source": "import numpy",
      "metadata": {
        "trusted": true
      },
      "outputs": [],
      "execution_count": 31
    },
    {
      "id": "7ff13a2e-2232-437b-b8e9-e83ae2522501",
      "cell_type": "code",
      "source": "import scipy\nimport pandas\nimport scrapy \nimport seaborn\nimport ggplot\nimport ploty\nimport Altair\nimport Quandl",
      "metadata": {
        "trusted": true
      },
      "outputs": [
        {
          "ename": "<class 'ModuleNotFoundError'>",
          "evalue": "No module named 'scrapy'",
          "traceback": [
            "\u001b[0;31m---------------------------------------------------------------------------\u001b[0m",
            "\u001b[0;31mModuleNotFoundError\u001b[0m                       Traceback (most recent call last)",
            "Cell \u001b[0;32mIn[33], line 3\u001b[0m\n\u001b[1;32m      1\u001b[0m \u001b[38;5;28;01mimport\u001b[39;00m \u001b[38;5;21;01mscipy\u001b[39;00m\n\u001b[1;32m      2\u001b[0m \u001b[38;5;28;01mimport\u001b[39;00m \u001b[38;5;21;01mpandas\u001b[39;00m\n\u001b[0;32m----> 3\u001b[0m \u001b[38;5;28;01mimport\u001b[39;00m \u001b[38;5;21;01mscrapy\u001b[39;00m \n\u001b[1;32m      4\u001b[0m \u001b[38;5;28;01mimport\u001b[39;00m \u001b[38;5;21;01mseaborn\u001b[39;00m\n\u001b[1;32m      5\u001b[0m \u001b[38;5;28;01mimport\u001b[39;00m \u001b[38;5;21;01mggplot\u001b[39;00m\n",
            "\u001b[0;31mModuleNotFoundError\u001b[0m: No module named 'scrapy'"
          ],
          "output_type": "error"
        }
      ],
      "execution_count": 33
    },
    {
      "id": "5e06effa-8021-4657-b800-d45cc58d9beb",
      "cell_type": "code",
      "source": "import Scrapy ",
      "metadata": {
        "trusted": true
      },
      "outputs": [
        {
          "ename": "<class 'ModuleNotFoundError'>",
          "evalue": "No module named 'Scrapy'",
          "traceback": [
            "\u001b[0;31m---------------------------------------------------------------------------\u001b[0m",
            "\u001b[0;31mModuleNotFoundError\u001b[0m                       Traceback (most recent call last)",
            "Cell \u001b[0;32mIn[35], line 1\u001b[0m\n\u001b[0;32m----> 1\u001b[0m \u001b[38;5;28;01mimport\u001b[39;00m \u001b[38;5;21;01mScrapy\u001b[39;00m \n",
            "\u001b[0;31mModuleNotFoundError\u001b[0m: No module named 'Scrapy'"
          ],
          "output_type": "error"
        }
      ],
      "execution_count": 35
    },
    {
      "id": "fdfd09c4-d177-4f78-a3d8-a638ed3963e1",
      "cell_type": "code",
      "source": "import Pandas",
      "metadata": {
        "trusted": true
      },
      "outputs": [
        {
          "ename": "<class 'ModuleNotFoundError'>",
          "evalue": "No module named 'Pandas'",
          "traceback": [
            "\u001b[0;31m---------------------------------------------------------------------------\u001b[0m",
            "\u001b[0;31mModuleNotFoundError\u001b[0m                       Traceback (most recent call last)",
            "Cell \u001b[0;32mIn[36], line 1\u001b[0m\n\u001b[0;32m----> 1\u001b[0m \u001b[38;5;28;01mimport\u001b[39;00m \u001b[38;5;21;01mPandas\u001b[39;00m\n",
            "\u001b[0;31mModuleNotFoundError\u001b[0m: No module named 'Pandas'"
          ],
          "output_type": "error"
        }
      ],
      "execution_count": 36
    },
    {
      "id": "7e174fd3-6d66-49f9-8546-7301213e7a8f",
      "cell_type": "code",
      "source": "import SOFA",
      "metadata": {
        "trusted": true
      },
      "outputs": [
        {
          "ename": "<class 'ModuleNotFoundError'>",
          "evalue": "No module named 'SOFA'",
          "traceback": [
            "\u001b[0;31m---------------------------------------------------------------------------\u001b[0m",
            "\u001b[0;31mModuleNotFoundError\u001b[0m                       Traceback (most recent call last)",
            "Cell \u001b[0;32mIn[39], line 1\u001b[0m\n\u001b[0;32m----> 1\u001b[0m \u001b[38;5;28;01mimport\u001b[39;00m \u001b[38;5;21;01mSOFA\u001b[39;00m\n",
            "\u001b[0;31mModuleNotFoundError\u001b[0m: No module named 'SOFA'"
          ],
          "output_type": "error"
        }
      ],
      "execution_count": 39
    },
    {
      "id": "4d2ad01a-923d-4485-b7bc-0673b30e023a",
      "cell_type": "code",
      "source": "import Pyro",
      "metadata": {
        "trusted": true
      },
      "outputs": [
        {
          "ename": "<class 'ModuleNotFoundError'>",
          "evalue": "No module named 'Pyro'",
          "traceback": [
            "\u001b[0;31m---------------------------------------------------------------------------\u001b[0m",
            "\u001b[0;31mModuleNotFoundError\u001b[0m                       Traceback (most recent call last)",
            "Cell \u001b[0;32mIn[41], line 1\u001b[0m\n\u001b[0;32m----> 1\u001b[0m \u001b[38;5;28;01mimport\u001b[39;00m \u001b[38;5;21;01mPyro\u001b[39;00m\n",
            "\u001b[0;31mModuleNotFoundError\u001b[0m: No module named 'Pyro'"
          ],
          "output_type": "error"
        }
      ],
      "execution_count": 41
    },
    {
      "id": "c51f34c6-12e2-49d6-95f5-a4d24a2cdf0b",
      "cell_type": "code",
      "source": "import Theano",
      "metadata": {
        "trusted": true
      },
      "outputs": [
        {
          "ename": "<class 'ModuleNotFoundError'>",
          "evalue": "No module named 'Theano'",
          "traceback": [
            "\u001b[0;31m---------------------------------------------------------------------------\u001b[0m",
            "\u001b[0;31mModuleNotFoundError\u001b[0m                       Traceback (most recent call last)",
            "Cell \u001b[0;32mIn[42], line 1\u001b[0m\n\u001b[0;32m----> 1\u001b[0m \u001b[38;5;28;01mimport\u001b[39;00m \u001b[38;5;21;01mTheano\u001b[39;00m\n",
            "\u001b[0;31mModuleNotFoundError\u001b[0m: No module named 'Theano'"
          ],
          "output_type": "error"
        }
      ],
      "execution_count": 42
    },
    {
      "id": "8c4f76d9-baad-408e-8620-c9796fa37761",
      "cell_type": "code",
      "source": "",
      "metadata": {
        "trusted": true
      },
      "outputs": [],
      "execution_count": null
    }
  ]
}