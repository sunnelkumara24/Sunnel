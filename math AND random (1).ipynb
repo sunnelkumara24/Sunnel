{
  "metadata": {
    "kernelspec": {
      "name": "python",
      "display_name": "Python (Pyodide)",
      "language": "python"
    },
    "language_info": {
      "codemirror_mode": {
        "name": "python",
        "version": 3
      },
      "file_extension": ".py",
      "mimetype": "text/x-python",
      "name": "python",
      "nbconvert_exporter": "python",
      "pygments_lexer": "ipython3",
      "version": "3.8"
    }
  },
  "nbformat_minor": 4,
  "nbformat": 4,
  "cells": [
    {
      "cell_type": "code",
      "source": "m=[10,20,30,40]\nfor a in range(len(m)):\n    print(a[m])",
      "metadata": {
        "trusted": true
      },
      "outputs": [
        {
          "ename": "<class 'TypeError'>",
          "evalue": "'int' object is not subscriptable",
          "traceback": [
            "\u001b[0;31m---------------------------------------------------------------------------\u001b[0m",
            "\u001b[0;31mTypeError\u001b[0m                                 Traceback (most recent call last)",
            "Cell \u001b[0;32mIn[6], line 3\u001b[0m\n\u001b[1;32m      1\u001b[0m m\u001b[38;5;241m=\u001b[39m[\u001b[38;5;241m10\u001b[39m,\u001b[38;5;241m20\u001b[39m,\u001b[38;5;241m30\u001b[39m,\u001b[38;5;241m40\u001b[39m]\n\u001b[1;32m      2\u001b[0m \u001b[38;5;28;01mfor\u001b[39;00m a \u001b[38;5;129;01min\u001b[39;00m \u001b[38;5;28mrange\u001b[39m(\u001b[38;5;28mlen\u001b[39m(m)):\n\u001b[0;32m----> 3\u001b[0m     \u001b[38;5;28mprint\u001b[39m(\u001b[43ma\u001b[49m\u001b[43m[\u001b[49m\u001b[43mm\u001b[49m\u001b[43m]\u001b[49m)\n",
            "\u001b[0;31mTypeError\u001b[0m: 'int' object is not subscriptable"
          ],
          "output_type": "error"
        }
      ],
      "execution_count": 6
    },
    {
      "cell_type": "code",
      "source": "import math",
      "metadata": {
        "trusted": true
      },
      "outputs": [],
      "execution_count": 7
    },
    {
      "cell_type": "code",
      "source": "import random",
      "metadata": {
        "trusted": true
      },
      "outputs": [],
      "execution_count": 8
    },
    {
      "cell_type": "code",
      "source": "m=[10,20,30,40]\nfor i in range(len(m)):\n    print(m[i])",
      "metadata": {
        "trusted": true
      },
      "outputs": [
        {
          "name": "stdout",
          "output_type": "stream",
          "text": "10\n20\n30\n40\n"
        }
      ],
      "execution_count": 11
    },
    {
      "cell_type": "code",
      "source": "n=[55,66,88,99,77,44,55]\nfor i in range(len(n)):\n    print('n=', n[i])",
      "metadata": {
        "trusted": true
      },
      "outputs": [
        {
          "name": "stdout",
          "output_type": "stream",
          "text": "n= 55\nn= 66\nn= 88\nn= 99\nn= 77\nn= 44\nn= 55\n"
        }
      ],
      "execution_count": 15
    },
    {
      "cell_type": "code",
      "source": "h=['jai kumar','mahesh kumar','manohar l','jayaraj i']\nfor i in range(len(h)):\n    print('h=', h[i])",
      "metadata": {
        "trusted": true
      },
      "outputs": [
        {
          "name": "stdout",
          "output_type": "stream",
          "text": "h= jai kumar\nh= mahesh kumar\nh= manohar l\nh= jayaraj i\n"
        }
      ],
      "execution_count": 19
    },
    {
      "cell_type": "code",
      "source": "v=['emp id:1212', 'name: harish', 'department:Admin', 'location:bangalore', 'emilid:harishk@zti.com']\nfor i in range(len(v)):\n    print('Emp Details=',v[i])",
      "metadata": {
        "trusted": true
      },
      "outputs": [
        {
          "name": "stdout",
          "output_type": "stream",
          "text": "Emp Details= emp id:1212\nEmp Details= name: harish\nEmp Details= department:Admin\nEmp Details= location:bangalore\nEmp Details= emilid:harishk@zti.com\n"
        }
      ],
      "execution_count": 21
    },
    {
      "cell_type": "code",
      "source": "g=[88,99,111,121,131,141,151]",
      "metadata": {
        "trusted": true
      },
      "outputs": [],
      "execution_count": 22
    },
    {
      "cell_type": "code",
      "source": "g.append(444)",
      "metadata": {
        "trusted": true
      },
      "outputs": [],
      "execution_count": 24
    },
    {
      "cell_type": "code",
      "source": "g",
      "metadata": {
        "trusted": true
      },
      "outputs": [
        {
          "execution_count": 25,
          "output_type": "execute_result",
          "data": {
            "text/plain": "[88, 99, 111, 121, 131, 141, 151, 444]"
          },
          "metadata": {}
        }
      ],
      "execution_count": 25
    },
    {
      "cell_type": "code",
      "source": "g.append(55555)",
      "metadata": {
        "trusted": true
      },
      "outputs": [],
      "execution_count": 27
    },
    {
      "cell_type": "code",
      "source": "g",
      "metadata": {
        "trusted": true
      },
      "outputs": [
        {
          "execution_count": 28,
          "output_type": "execute_result",
          "data": {
            "text/plain": "[88, 99, 111, 121, 131, 141, 151, 444, 55555]"
          },
          "metadata": {}
        }
      ],
      "execution_count": 28
    },
    {
      "cell_type": "code",
      "source": "g.append([66,8888])",
      "metadata": {
        "trusted": true
      },
      "outputs": [],
      "execution_count": 30
    },
    {
      "cell_type": "code",
      "source": "g",
      "metadata": {
        "trusted": true
      },
      "outputs": [
        {
          "execution_count": 31,
          "output_type": "execute_result",
          "data": {
            "text/plain": "[88, 99, 111, 121, 131, 141, 151, 444, 55555, [66, 8888]]"
          },
          "metadata": {}
        }
      ],
      "execution_count": 31
    },
    {
      "cell_type": "code",
      "source": "g.extend([8989,9898,77777])",
      "metadata": {
        "trusted": true
      },
      "outputs": [],
      "execution_count": 32
    },
    {
      "cell_type": "code",
      "source": "g",
      "metadata": {
        "trusted": true
      },
      "outputs": [
        {
          "execution_count": 33,
          "output_type": "execute_result",
          "data": {
            "text/plain": "[88, 99, 111, 121, 131, 141, 151, 444, 55555, [66, 8888], 8989, 9898, 77777]"
          },
          "metadata": {}
        }
      ],
      "execution_count": 33
    },
    {
      "cell_type": "code",
      "source": "g.extend(['ask', 'mkr', 'jkr'])",
      "metadata": {
        "trusted": true
      },
      "outputs": [],
      "execution_count": 34
    },
    {
      "cell_type": "code",
      "source": "g",
      "metadata": {
        "trusted": true
      },
      "outputs": [
        {
          "execution_count": 35,
          "output_type": "execute_result",
          "data": {
            "text/plain": "[88,\n 99,\n 111,\n 121,\n 131,\n 141,\n 151,\n 444,\n 55555,\n [66, 8888],\n 8989,\n 9898,\n 77777,\n 'ask',\n 'mkr',\n 'jkr']"
          },
          "metadata": {}
        }
      ],
      "execution_count": 35
    },
    {
      "cell_type": "code",
      "source": "print('g=', g)",
      "metadata": {
        "trusted": true
      },
      "outputs": [
        {
          "name": "stdout",
          "output_type": "stream",
          "text": "g= [88, 99, 111, 121, 131, 141, 151, 444, 55555, [66, 8888], 8989, 9898, 77777, 'ask', 'mkr', 'jkr']\n"
        }
      ],
      "execution_count": 37
    },
    {
      "cell_type": "code",
      "source": "print('g=', g, end=\" \")",
      "metadata": {
        "trusted": true
      },
      "outputs": [
        {
          "name": "stdout",
          "output_type": "stream",
          "text": "g= [88, 99, 111, 121, 131, 141, 151, 444, 55555, [66, 8888], 8989, 9898, 77777, 'ask', 'mkr', 'jkr'] "
        }
      ],
      "execution_count": 39
    },
    {
      "cell_type": "code",
      "source": "g.insert(6,'sunnel')",
      "metadata": {
        "trusted": true
      },
      "outputs": [],
      "execution_count": 40
    },
    {
      "cell_type": "code",
      "source": "print('g=', g)",
      "metadata": {
        "trusted": true
      },
      "outputs": [
        {
          "name": "stdout",
          "output_type": "stream",
          "text": "g= [88, 99, 111, 121, 131, 141, 'sunnel', 151, 444, 55555, [66, 8888], 8989, 9898, 77777, 'ask', 'mkr', 'jkr']\n"
        }
      ],
      "execution_count": 41
    },
    {
      "cell_type": "code",
      "source": "g.insert(8,'ganesh')",
      "metadata": {
        "trusted": true
      },
      "outputs": [],
      "execution_count": 42
    },
    {
      "cell_type": "code",
      "source": "print('g=', g)",
      "metadata": {
        "trusted": true
      },
      "outputs": [
        {
          "name": "stdout",
          "output_type": "stream",
          "text": "g= [88, 99, 111, 121, 131, 141, 'sunnel', 151, 'ganesh', 444, 55555, [66, 8888], 8989, 9898, 77777, 'ask', 'mkr', 'jkr']\n"
        }
      ],
      "execution_count": 43
    },
    {
      "cell_type": "code",
      "source": "# removing exacat value\n\ng.remove(88)",
      "metadata": {
        "trusted": true
      },
      "outputs": [],
      "execution_count": 44
    },
    {
      "cell_type": "code",
      "source": "print('g=', g)",
      "metadata": {
        "trusted": true
      },
      "outputs": [
        {
          "name": "stdout",
          "output_type": "stream",
          "text": "g= [99, 111, 121, 131, 'sunnel', 151, 'ganesh', 444, 55555, [66, 8888], 8989, 9898, 77777, 'ask', 'mkr', 'jkr']\n"
        }
      ],
      "execution_count": 50
    },
    {
      "cell_type": "code",
      "source": "g.remove(g[4])",
      "metadata": {
        "trusted": true
      },
      "outputs": [],
      "execution_count": 46
    },
    {
      "cell_type": "code",
      "source": "print('g=', g)",
      "metadata": {
        "trusted": true
      },
      "outputs": [
        {
          "name": "stdout",
          "output_type": "stream",
          "text": "g= [99, 111, 121, 131, 'sunnel', 151, 'ganesh', 444, 55555, [66, 8888], 8989, 9898, 77777, 'ask', 'mkr', 'jkr']\n"
        }
      ],
      "execution_count": 49
    },
    {
      "cell_type": "code",
      "source": "print('g=', g)",
      "metadata": {
        "trusted": true
      },
      "outputs": [
        {
          "name": "stdout",
          "output_type": "stream",
          "text": "g= [99, 111, 121, 131, 'sunnel', 151, 'ganesh', 444, 55555, [66, 8888], 8989, 9898, 77777, 'ask', 'mkr', 'jkr']\n"
        }
      ],
      "execution_count": 48
    },
    {
      "cell_type": "code",
      "source": "# removing last added value by using pop\ng.pop()",
      "metadata": {
        "trusted": true
      },
      "outputs": [
        {
          "execution_count": 51,
          "output_type": "execute_result",
          "data": {
            "text/plain": "'jkr'"
          },
          "metadata": {}
        }
      ],
      "execution_count": 51
    },
    {
      "cell_type": "code",
      "source": "print('g=', g)",
      "metadata": {
        "trusted": true
      },
      "outputs": [
        {
          "name": "stdout",
          "output_type": "stream",
          "text": "g= [99, 111, 121, 131, 'sunnel', 151, 'ganesh', 444, 55555, [66, 8888], 8989, 9898, 77777, 'ask', 'mkr']\n"
        }
      ],
      "execution_count": 52
    },
    {
      "cell_type": "code",
      "source": "g.pop()",
      "metadata": {
        "trusted": true
      },
      "outputs": [
        {
          "execution_count": 53,
          "output_type": "execute_result",
          "data": {
            "text/plain": "'mkr'"
          },
          "metadata": {}
        }
      ],
      "execution_count": 53
    },
    {
      "cell_type": "code",
      "source": "print('g=', g)",
      "metadata": {
        "trusted": true
      },
      "outputs": [
        {
          "name": "stdout",
          "output_type": "stream",
          "text": "g= [99, 111, 121, 131, 'sunnel', 151, 'ganesh', 444, 55555, [66, 8888], 8989, 9898, 77777, 'ask']\n"
        }
      ],
      "execution_count": 54
    },
    {
      "cell_type": "code",
      "source": "g.pop()",
      "metadata": {
        "trusted": true
      },
      "outputs": [
        {
          "execution_count": 55,
          "output_type": "execute_result",
          "data": {
            "text/plain": "'ask'"
          },
          "metadata": {}
        }
      ],
      "execution_count": 55
    },
    {
      "cell_type": "code",
      "source": "print('g=', g)",
      "metadata": {
        "trusted": true
      },
      "outputs": [
        {
          "name": "stdout",
          "output_type": "stream",
          "text": "g= [99, 111, 121, 131, 'sunnel', 151, 'ganesh', 444, 55555, [66, 8888], 8989, 9898, 77777]\n"
        }
      ],
      "execution_count": 56
    },
    {
      "cell_type": "code",
      "source": "# removing value by using pop with index value\ng.pop(4)",
      "metadata": {
        "trusted": true
      },
      "outputs": [
        {
          "execution_count": 57,
          "output_type": "execute_result",
          "data": {
            "text/plain": "'sunnel'"
          },
          "metadata": {}
        }
      ],
      "execution_count": 57
    },
    {
      "cell_type": "code",
      "source": "print('g=', g)",
      "metadata": {
        "trusted": true
      },
      "outputs": [
        {
          "name": "stdout",
          "output_type": "stream",
          "text": "g= [99, 111, 121, 131, 151, 'ganesh', 444, 55555, [66, 8888], 8989, 9898, 77777]\n"
        }
      ],
      "execution_count": 58
    },
    {
      "cell_type": "code",
      "source": "g.pop(6)",
      "metadata": {
        "trusted": true
      },
      "outputs": [
        {
          "execution_count": 59,
          "output_type": "execute_result",
          "data": {
            "text/plain": "444"
          },
          "metadata": {}
        }
      ],
      "execution_count": 59
    },
    {
      "cell_type": "code",
      "source": "print('g=', g)",
      "metadata": {
        "trusted": true
      },
      "outputs": [
        {
          "name": "stdout",
          "output_type": "stream",
          "text": "g= [99, 111, 121, 131, 151, 'ganesh', 55555, [66, 8888], 8989, 9898, 77777]\n"
        }
      ],
      "execution_count": 60
    },
    {
      "cell_type": "code",
      "source": "# removing value by using del with index value \ndel g[6]",
      "metadata": {
        "trusted": true
      },
      "outputs": [],
      "execution_count": 61
    },
    {
      "cell_type": "code",
      "source": "print('g=', g)",
      "metadata": {
        "trusted": true
      },
      "outputs": [
        {
          "name": "stdout",
          "output_type": "stream",
          "text": "g= [99, 111, 121, 131, 151, 'ganesh', [66, 8888], 8989, 9898, 77777]\n"
        }
      ],
      "execution_count": 62
    },
    {
      "cell_type": "code",
      "source": "g.sort()",
      "metadata": {
        "trusted": true
      },
      "outputs": [
        {
          "ename": "<class 'TypeError'>",
          "evalue": "'<' not supported between instances of 'str' and 'int'",
          "traceback": [
            "\u001b[0;31m---------------------------------------------------------------------------\u001b[0m",
            "\u001b[0;31mTypeError\u001b[0m                                 Traceback (most recent call last)",
            "Cell \u001b[0;32mIn[63], line 1\u001b[0m\n\u001b[0;32m----> 1\u001b[0m \u001b[43mg\u001b[49m\u001b[38;5;241;43m.\u001b[39;49m\u001b[43msort\u001b[49m\u001b[43m(\u001b[49m\u001b[43m)\u001b[49m\n",
            "\u001b[0;31mTypeError\u001b[0m: '<' not supported between instances of 'str' and 'int'"
          ],
          "output_type": "error"
        }
      ],
      "execution_count": 63
    },
    {
      "cell_type": "code",
      "source": "g.pop(5)",
      "metadata": {
        "trusted": true
      },
      "outputs": [
        {
          "execution_count": 64,
          "output_type": "execute_result",
          "data": {
            "text/plain": "'ganesh'"
          },
          "metadata": {}
        }
      ],
      "execution_count": 64
    },
    {
      "cell_type": "code",
      "source": "g.sort()",
      "metadata": {
        "trusted": true
      },
      "outputs": [
        {
          "ename": "<class 'TypeError'>",
          "evalue": "'<' not supported between instances of 'list' and 'int'",
          "traceback": [
            "\u001b[0;31m---------------------------------------------------------------------------\u001b[0m",
            "\u001b[0;31mTypeError\u001b[0m                                 Traceback (most recent call last)",
            "Cell \u001b[0;32mIn[65], line 1\u001b[0m\n\u001b[0;32m----> 1\u001b[0m \u001b[43mg\u001b[49m\u001b[38;5;241;43m.\u001b[39;49m\u001b[43msort\u001b[49m\u001b[43m(\u001b[49m\u001b[43m)\u001b[49m\n",
            "\u001b[0;31mTypeError\u001b[0m: '<' not supported between instances of 'list' and 'int'"
          ],
          "output_type": "error"
        }
      ],
      "execution_count": 65
    },
    {
      "cell_type": "code",
      "source": "g.pop(5)",
      "metadata": {
        "trusted": true
      },
      "outputs": [
        {
          "execution_count": 66,
          "output_type": "execute_result",
          "data": {
            "text/plain": "[66, 8888]"
          },
          "metadata": {}
        }
      ],
      "execution_count": 66
    },
    {
      "cell_type": "code",
      "source": "print('g=', g)",
      "metadata": {
        "trusted": true
      },
      "outputs": [
        {
          "name": "stdout",
          "output_type": "stream",
          "text": "g= [99, 111, 121, 131, 151, 8989, 9898, 77777]\n"
        }
      ],
      "execution_count": 67
    },
    {
      "cell_type": "code",
      "source": "g.insert(2,50)",
      "metadata": {
        "trusted": true
      },
      "outputs": [],
      "execution_count": 71
    },
    {
      "cell_type": "code",
      "source": "print('g=', g)\n",
      "metadata": {
        "trusted": true
      },
      "outputs": [
        {
          "name": "stdout",
          "output_type": "stream",
          "text": "g= [99, 111, 50, 121, 131, 151, 8989, 9898, 77777]\n"
        }
      ],
      "execution_count": 72
    },
    {
      "cell_type": "code",
      "source": "g.sort()",
      "metadata": {
        "trusted": true
      },
      "outputs": [],
      "execution_count": 73
    },
    {
      "cell_type": "code",
      "source": "print('g=', g)\n",
      "metadata": {
        "trusted": true
      },
      "outputs": [
        {
          "name": "stdout",
          "output_type": "stream",
          "text": "g= [50, 99, 111, 121, 131, 151, 8989, 9898, 77777]\n"
        }
      ],
      "execution_count": 74
    },
    {
      "cell_type": "code",
      "source": "# reverse sort \ng.sort(reverse=True)",
      "metadata": {
        "trusted": true
      },
      "outputs": [],
      "execution_count": 80
    },
    {
      "cell_type": "code",
      "source": "print('g=', g)",
      "metadata": {
        "trusted": true
      },
      "outputs": [
        {
          "name": "stdout",
          "output_type": "stream",
          "text": "g= [77777, 9898, 8989, 151, 131, 121, 111, 99, 50]\n"
        }
      ],
      "execution_count": 79
    },
    {
      "cell_type": "code",
      "source": "# count of elements \ng=g*3\n",
      "metadata": {
        "trusted": true
      },
      "outputs": [],
      "execution_count": 81
    },
    {
      "cell_type": "code",
      "source": "print('g=', g)",
      "metadata": {
        "trusted": true
      },
      "outputs": [
        {
          "name": "stdout",
          "output_type": "stream",
          "text": "g= [77777, 9898, 8989, 151, 131, 121, 111, 99, 50, 77777, 9898, 8989, 151, 131, 121, 111, 99, 50, 77777, 9898, 8989, 151, 131, 121, 111, 99, 50]\n"
        }
      ],
      "execution_count": 82
    },
    {
      "cell_type": "code",
      "source": "g.count(9898)",
      "metadata": {
        "trusted": true
      },
      "outputs": [
        {
          "execution_count": 83,
          "output_type": "execute_result",
          "data": {
            "text/plain": "3"
          },
          "metadata": {}
        }
      ],
      "execution_count": 83
    },
    {
      "cell_type": "code",
      "source": "g.count(151)",
      "metadata": {
        "trusted": true
      },
      "outputs": [
        {
          "execution_count": 84,
          "output_type": "execute_result",
          "data": {
            "text/plain": "3"
          },
          "metadata": {}
        }
      ],
      "execution_count": 84
    },
    {
      "cell_type": "code",
      "source": "g.count(121)",
      "metadata": {
        "trusted": true
      },
      "outputs": [
        {
          "execution_count": 85,
          "output_type": "execute_result",
          "data": {
            "text/plain": "3"
          },
          "metadata": {}
        }
      ],
      "execution_count": 85
    },
    {
      "cell_type": "code",
      "source": "# list comprenssion\nb=[ele for ele in range(10)]\nprint(b)",
      "metadata": {
        "trusted": true
      },
      "outputs": [
        {
          "name": "stdout",
          "output_type": "stream",
          "text": "[0, 1, 2, 3, 4, 5, 6, 7, 8, 9]\n"
        }
      ],
      "execution_count": 92
    },
    {
      "cell_type": "code",
      "source": "b=[ele*ele for ele in range(12)]\nprint(b)",
      "metadata": {
        "trusted": true
      },
      "outputs": [
        {
          "name": "stdout",
          "output_type": "stream",
          "text": "[0, 1, 4, 9, 16, 25, 36, 49, 64, 81, 100, 121]\n"
        }
      ],
      "execution_count": 93
    },
    {
      "cell_type": "code",
      "source": "b=[ele for ele in range(20) if ele%2==0]",
      "metadata": {
        "trusted": true
      },
      "outputs": [],
      "execution_count": 100
    },
    {
      "cell_type": "code",
      "source": "print(b)",
      "metadata": {
        "trusted": true
      },
      "outputs": [
        {
          "name": "stdout",
          "output_type": "stream",
          "text": "[0, 2, 4, 6, 8, 10, 12, 14, 16, 18]\n"
        }
      ],
      "execution_count": 101
    },
    {
      "cell_type": "code",
      "source": "b=[ele for ele in range(100) if ele%5==0]",
      "metadata": {
        "trusted": true
      },
      "outputs": [],
      "execution_count": 102
    },
    {
      "cell_type": "code",
      "source": "print('b=', b)",
      "metadata": {
        "trusted": true
      },
      "outputs": [
        {
          "name": "stdout",
          "output_type": "stream",
          "text": "b= [0, 5, 10, 15, 20, 25, 30, 35, 40, 45, 50, 55, 60, 65, 70, 75, 80, 85, 90, 95]\n"
        }
      ],
      "execution_count": 104
    },
    {
      "cell_type": "code",
      "source": "# list compression 1. list experssion 2. itaretion 3.condision \n\nb=[ele*ele for ele in range(10) if ele%5==0]\nprint('b=', b)",
      "metadata": {
        "trusted": true
      },
      "outputs": [
        {
          "name": "stdout",
          "output_type": "stream",
          "text": "b= [0, 25]\n"
        }
      ],
      "execution_count": 111
    },
    {
      "cell_type": "code",
      "source": "# creating tuple\no=()",
      "metadata": {
        "trusted": true
      },
      "outputs": [],
      "execution_count": 112
    },
    {
      "cell_type": "code",
      "source": "o",
      "metadata": {
        "trusted": true
      },
      "outputs": [
        {
          "execution_count": 113,
          "output_type": "execute_result",
          "data": {
            "text/plain": "()"
          },
          "metadata": {}
        }
      ],
      "execution_count": 113
    },
    {
      "cell_type": "code",
      "source": "j=(44,55,66)",
      "metadata": {
        "trusted": true
      },
      "outputs": [],
      "execution_count": 119
    },
    {
      "cell_type": "code",
      "source": "j",
      "metadata": {
        "trusted": true
      },
      "outputs": [
        {
          "execution_count": 120,
          "output_type": "execute_result",
          "data": {
            "text/plain": "(44, 55, 66)"
          },
          "metadata": {}
        }
      ],
      "execution_count": 120
    },
    {
      "cell_type": "code",
      "source": "j[1]",
      "metadata": {
        "trusted": true
      },
      "outputs": [
        {
          "execution_count": 121,
          "output_type": "execute_result",
          "data": {
            "text/plain": "55"
          },
          "metadata": {}
        }
      ],
      "execution_count": 121
    },
    {
      "cell_type": "code",
      "source": "j[0:1]",
      "metadata": {
        "trusted": true
      },
      "outputs": [
        {
          "execution_count": 122,
          "output_type": "execute_result",
          "data": {
            "text/plain": "(44,)"
          },
          "metadata": {}
        }
      ],
      "execution_count": 122
    },
    {
      "cell_type": "code",
      "source": "#coverting tuple to list \n\nk=list(j)",
      "metadata": {
        "trusted": true
      },
      "outputs": [],
      "execution_count": 123
    },
    {
      "cell_type": "code",
      "source": "k=j[2,25]",
      "metadata": {
        "trusted": true
      },
      "outputs": [
        {
          "ename": "<class 'TypeError'>",
          "evalue": "tuple indices must be integers or slices, not tuple",
          "traceback": [
            "\u001b[0;31m---------------------------------------------------------------------------\u001b[0m",
            "\u001b[0;31mTypeError\u001b[0m                                 Traceback (most recent call last)",
            "Cell \u001b[0;32mIn[125], line 1\u001b[0m\n\u001b[0;32m----> 1\u001b[0m k\u001b[38;5;241m=\u001b[39m\u001b[43mj\u001b[49m\u001b[43m[\u001b[49m\u001b[38;5;241;43m2\u001b[39;49m\u001b[43m,\u001b[49m\u001b[38;5;241;43m25\u001b[39;49m\u001b[43m]\u001b[49m\n",
            "\u001b[0;31mTypeError\u001b[0m: tuple indices must be integers or slices, not tuple"
          ],
          "output_type": "error"
        }
      ],
      "execution_count": 125
    },
    {
      "cell_type": "code",
      "source": "j",
      "metadata": {
        "trusted": true
      },
      "outputs": [
        {
          "execution_count": 126,
          "output_type": "execute_result",
          "data": {
            "text/plain": "(44, 55, 66)"
          },
          "metadata": {}
        }
      ],
      "execution_count": 126
    },
    {
      "cell_type": "code",
      "source": "k",
      "metadata": {
        "trusted": true
      },
      "outputs": [
        {
          "execution_count": 127,
          "output_type": "execute_result",
          "data": {
            "text/plain": "[44, 55, 66]"
          },
          "metadata": {}
        }
      ],
      "execution_count": 127
    },
    {
      "cell_type": "code",
      "source": "j",
      "metadata": {
        "trusted": true
      },
      "outputs": [
        {
          "execution_count": 128,
          "output_type": "execute_result",
          "data": {
            "text/plain": "(44, 55, 66)"
          },
          "metadata": {}
        }
      ],
      "execution_count": 128
    },
    {
      "cell_type": "code",
      "source": "k",
      "metadata": {
        "trusted": true
      },
      "outputs": [
        {
          "execution_count": 131,
          "output_type": "execute_result",
          "data": {
            "text/plain": "[44, 55, 66]"
          },
          "metadata": {}
        }
      ],
      "execution_count": 131
    },
    {
      "cell_type": "code",
      "source": "k[1]=888",
      "metadata": {
        "trusted": true
      },
      "outputs": [],
      "execution_count": 136
    },
    {
      "cell_type": "code",
      "source": "j",
      "metadata": {
        "trusted": true
      },
      "outputs": [
        {
          "execution_count": 137,
          "output_type": "execute_result",
          "data": {
            "text/plain": "(44, 55, 66)"
          },
          "metadata": {}
        }
      ],
      "execution_count": 137
    },
    {
      "cell_type": "code",
      "source": "k",
      "metadata": {
        "trusted": true
      },
      "outputs": [
        {
          "execution_count": 138,
          "output_type": "execute_result",
          "data": {
            "text/plain": "[2, 888]"
          },
          "metadata": {}
        }
      ],
      "execution_count": 138
    },
    {
      "cell_type": "code",
      "source": "# reassigning element \n\nk[0]=77",
      "metadata": {
        "trusted": true
      },
      "outputs": [],
      "execution_count": 139
    },
    {
      "cell_type": "code",
      "source": "k",
      "metadata": {
        "trusted": true
      },
      "outputs": [
        {
          "execution_count": 140,
          "output_type": "execute_result",
          "data": {
            "text/plain": "[77, 888]"
          },
          "metadata": {}
        }
      ],
      "execution_count": 140
    },
    {
      "cell_type": "code",
      "source": "#coverting list to tuple\n\n\nk=tuple(j)",
      "metadata": {
        "trusted": true
      },
      "outputs": [],
      "execution_count": 144
    },
    {
      "cell_type": "code",
      "source": "j",
      "metadata": {
        "trusted": true
      },
      "outputs": [
        {
          "execution_count": 143,
          "output_type": "execute_result",
          "data": {
            "text/plain": "(44, 55, 66)"
          },
          "metadata": {}
        }
      ],
      "execution_count": 143
    },
    {
      "cell_type": "code",
      "source": "# Creating a string\n#Single quote\na='hellow world'",
      "metadata": {
        "trusted": true
      },
      "outputs": [],
      "execution_count": 145
    },
    {
      "cell_type": "code",
      "source": "a",
      "metadata": {
        "trusted": true
      },
      "outputs": [
        {
          "execution_count": 146,
          "output_type": "execute_result",
          "data": {
            "text/plain": "'hellow world'"
          },
          "metadata": {}
        }
      ],
      "execution_count": 146
    },
    {
      "cell_type": "code",
      "source": "# double quote\nb=\"how is your's sun\"",
      "metadata": {
        "trusted": true
      },
      "outputs": [],
      "execution_count": 147
    },
    {
      "cell_type": "code",
      "source": "b",
      "metadata": {
        "trusted": true
      },
      "outputs": [
        {
          "execution_count": 148,
          "output_type": "execute_result",
          "data": {
            "text/plain": "\"how is your's sun\""
          },
          "metadata": {}
        }
      ],
      "execution_count": 148
    },
    {
      "cell_type": "code",
      "source": "#  triple quoote \" this is used print a multiple lines\n\nv=\"\"\" hi hpw are you\nhow is your job\nin which project you are working right now\"\"\"",
      "metadata": {
        "trusted": true
      },
      "outputs": [],
      "execution_count": 156
    },
    {
      "cell_type": "code",
      "source": "v",
      "metadata": {
        "trusted": true
      },
      "outputs": [
        {
          "execution_count": 157,
          "output_type": "execute_result",
          "data": {
            "text/plain": "' hi hpw are you\\nhow is your job\\nin which project you are working right now'"
          },
          "metadata": {}
        }
      ],
      "execution_count": 157
    },
    {
      "cell_type": "code",
      "source": "# capitalize\n\n\nZ=\"need to complte all the tasks today\"\n",
      "metadata": {
        "trusted": true
      },
      "outputs": [],
      "execution_count": 160
    },
    {
      "cell_type": "code",
      "source": "Z.capitalize()",
      "metadata": {
        "trusted": true
      },
      "outputs": [
        {
          "execution_count": 161,
          "output_type": "execute_result",
          "data": {
            "text/plain": "'Need to complte all the tasks today'"
          },
          "metadata": {}
        }
      ],
      "execution_count": 161
    },
    {
      "cell_type": "code",
      "source": "c=\"any update form team?\"",
      "metadata": {
        "trusted": true
      },
      "outputs": [],
      "execution_count": 162
    },
    {
      "cell_type": "code",
      "source": "c.capitalize()",
      "metadata": {
        "trusted": true
      },
      "outputs": [
        {
          "execution_count": 163,
          "output_type": "execute_result",
          "data": {
            "text/plain": "'Any update form team?'"
          },
          "metadata": {}
        }
      ],
      "execution_count": 163
    },
    {
      "cell_type": "code",
      "source": "c.center(12,\"$\")",
      "metadata": {
        "trusted": true
      },
      "outputs": [
        {
          "execution_count": 167,
          "output_type": "execute_result",
          "data": {
            "text/plain": "'any update form team?'"
          },
          "metadata": {}
        }
      ],
      "execution_count": 167
    },
    {
      "cell_type": "code",
      "source": "c.center(10,\"@\")",
      "metadata": {
        "trusted": true
      },
      "outputs": [
        {
          "execution_count": 169,
          "output_type": "execute_result",
          "data": {
            "text/plain": "'any update form team?'"
          },
          "metadata": {}
        }
      ],
      "execution_count": 169
    },
    {
      "cell_type": "code",
      "source": "c.count('d')",
      "metadata": {
        "trusted": true
      },
      "outputs": [
        {
          "execution_count": 172,
          "output_type": "execute_result",
          "data": {
            "text/plain": "1"
          },
          "metadata": {}
        }
      ],
      "execution_count": 172
    },
    {
      "cell_type": "code",
      "source": "c",
      "metadata": {
        "trusted": true
      },
      "outputs": [
        {
          "execution_count": 171,
          "output_type": "execute_result",
          "data": {
            "text/plain": "'any update form team?'"
          },
          "metadata": {}
        }
      ],
      "execution_count": 171
    },
    {
      "cell_type": "code",
      "source": "c.count('f')",
      "metadata": {
        "trusted": true
      },
      "outputs": [
        {
          "execution_count": 173,
          "output_type": "execute_result",
          "data": {
            "text/plain": "1"
          },
          "metadata": {}
        }
      ],
      "execution_count": 173
    },
    {
      "cell_type": "code",
      "source": "c.count('d', 12, len(c))",
      "metadata": {
        "trusted": true
      },
      "outputs": [
        {
          "execution_count": 174,
          "output_type": "execute_result",
          "data": {
            "text/plain": "0"
          },
          "metadata": {}
        }
      ],
      "execution_count": 174
    },
    {
      "cell_type": "code",
      "source": "c.count('u', 7, len(c))",
      "metadata": {
        "trusted": true
      },
      "outputs": [
        {
          "execution_count": 176,
          "output_type": "execute_result",
          "data": {
            "text/plain": "0"
          },
          "metadata": {}
        }
      ],
      "execution_count": 176
    },
    {
      "cell_type": "code",
      "source": "c.count('u')",
      "metadata": {
        "trusted": true
      },
      "outputs": [
        {
          "execution_count": 179,
          "output_type": "execute_result",
          "data": {
            "text/plain": "1"
          },
          "metadata": {}
        }
      ],
      "execution_count": 179
    },
    {
      "cell_type": "code",
      "source": "b='jk jak janajan jaknjk jahagana jahajajaja hana hanabee haneevaa gagana gagananana'",
      "metadata": {
        "trusted": true
      },
      "outputs": [],
      "execution_count": 181
    },
    {
      "cell_type": "code",
      "source": "b.count('j')",
      "metadata": {
        "trusted": true
      },
      "outputs": [
        {
          "execution_count": 183,
          "output_type": "execute_result",
          "data": {
            "text/plain": "11"
          },
          "metadata": {}
        }
      ],
      "execution_count": 183
    },
    {
      "cell_type": "code",
      "source": "b.count('h')",
      "metadata": {
        "trusted": true
      },
      "outputs": [
        {
          "execution_count": 184,
          "output_type": "execute_result",
          "data": {
            "text/plain": "5"
          },
          "metadata": {}
        }
      ],
      "execution_count": 184
    },
    {
      "cell_type": "code",
      "source": "# startswith function \n# endswith function\n\nb.startswith('jk')",
      "metadata": {
        "trusted": true
      },
      "outputs": [
        {
          "execution_count": 186,
          "output_type": "execute_result",
          "data": {
            "text/plain": "True"
          },
          "metadata": {}
        }
      ],
      "execution_count": 186
    },
    {
      "cell_type": "code",
      "source": "b.endswith('na')",
      "metadata": {
        "trusted": true
      },
      "outputs": [
        {
          "execution_count": 187,
          "output_type": "execute_result",
          "data": {
            "text/plain": "True"
          },
          "metadata": {}
        }
      ],
      "execution_count": 187
    },
    {
      "cell_type": "code",
      "source": "b.endswith('na', 7,len(b))",
      "metadata": {
        "trusted": true
      },
      "outputs": [
        {
          "execution_count": 188,
          "output_type": "execute_result",
          "data": {
            "text/plain": "True"
          },
          "metadata": {}
        }
      ],
      "execution_count": 188
    },
    {
      "cell_type": "code",
      "source": "b.startswith('jk',6, len(b))",
      "metadata": {
        "trusted": true
      },
      "outputs": [
        {
          "execution_count": 189,
          "output_type": "execute_result",
          "data": {
            "text/plain": "False"
          },
          "metadata": {}
        }
      ],
      "execution_count": 189
    },
    {
      "cell_type": "code",
      "source": "b.startswith('jk',1, len(b))",
      "metadata": {
        "trusted": true
      },
      "outputs": [
        {
          "execution_count": 190,
          "output_type": "execute_result",
          "data": {
            "text/plain": "False"
          },
          "metadata": {}
        }
      ],
      "execution_count": 190
    },
    {
      "cell_type": "code",
      "source": "b.startswith('jk',0, len(b))",
      "metadata": {
        "trusted": true
      },
      "outputs": [
        {
          "execution_count": 191,
          "output_type": "execute_result",
          "data": {
            "text/plain": "True"
          },
          "metadata": {}
        }
      ],
      "execution_count": 191
    },
    {
      "cell_type": "code",
      "source": "b.startswith('j',6, len(b))",
      "metadata": {
        "trusted": true
      },
      "outputs": [
        {
          "execution_count": 192,
          "output_type": "execute_result",
          "data": {
            "text/plain": "False"
          },
          "metadata": {}
        }
      ],
      "execution_count": 192
    },
    {
      "cell_type": "code",
      "source": "b.startswith('j',0, len(b))",
      "metadata": {
        "trusted": true
      },
      "outputs": [
        {
          "execution_count": 194,
          "output_type": "execute_result",
          "data": {
            "text/plain": "True"
          },
          "metadata": {}
        }
      ],
      "execution_count": 194
    },
    {
      "cell_type": "code",
      "source": "b.startswith('h',2, len(b))",
      "metadata": {
        "trusted": true
      },
      "outputs": [
        {
          "execution_count": 196,
          "output_type": "execute_result",
          "data": {
            "text/plain": "False"
          },
          "metadata": {}
        }
      ],
      "execution_count": 196
    },
    {
      "cell_type": "code",
      "source": "b.startswith('g',6, len(b))",
      "metadata": {
        "trusted": true
      },
      "outputs": [
        {
          "execution_count": 197,
          "output_type": "execute_result",
          "data": {
            "text/plain": "False"
          },
          "metadata": {}
        }
      ],
      "execution_count": 197
    },
    {
      "cell_type": "code",
      "source": "b.startswith('g',1, len(b))",
      "metadata": {
        "trusted": true
      },
      "outputs": [
        {
          "execution_count": 200,
          "output_type": "execute_result",
          "data": {
            "text/plain": "False"
          },
          "metadata": {}
        }
      ],
      "execution_count": 200
    },
    {
      "cell_type": "code",
      "source": "# index find\nb.find('b')",
      "metadata": {
        "trusted": true
      },
      "outputs": [
        {
          "execution_count": 201,
          "output_type": "execute_result",
          "data": {
            "text/plain": "51"
          },
          "metadata": {}
        }
      ],
      "execution_count": 201
    },
    {
      "cell_type": "code",
      "source": "# index find form revese\nb.rfind('b')",
      "metadata": {
        "trusted": true
      },
      "outputs": [
        {
          "execution_count": 202,
          "output_type": "execute_result",
          "data": {
            "text/plain": "51"
          },
          "metadata": {}
        }
      ],
      "execution_count": 202
    },
    {
      "cell_type": "code",
      "source": "b.index('b')",
      "metadata": {
        "trusted": true
      },
      "outputs": [
        {
          "execution_count": 203,
          "output_type": "execute_result",
          "data": {
            "text/plain": "51"
          },
          "metadata": {}
        }
      ],
      "execution_count": 203
    },
    {
      "cell_type": "code",
      "source": "b.rindex('b')",
      "metadata": {
        "trusted": true
      },
      "outputs": [
        {
          "execution_count": 205,
          "output_type": "execute_result",
          "data": {
            "text/plain": "51"
          },
          "metadata": {}
        }
      ],
      "execution_count": 205
    },
    {
      "cell_type": "code",
      "source": "b.index('k')",
      "metadata": {
        "trusted": true
      },
      "outputs": [
        {
          "execution_count": 206,
          "output_type": "execute_result",
          "data": {
            "text/plain": "1"
          },
          "metadata": {}
        }
      ],
      "execution_count": 206
    },
    {
      "cell_type": "code",
      "source": "b.rindex('k')",
      "metadata": {
        "trusted": true
      },
      "outputs": [
        {
          "execution_count": 207,
          "output_type": "execute_result",
          "data": {
            "text/plain": "20"
          },
          "metadata": {}
        }
      ],
      "execution_count": 207
    },
    {
      "cell_type": "code",
      "source": "a=\"hello\"",
      "metadata": {
        "trusted": true
      },
      "outputs": [],
      "execution_count": 208
    },
    {
      "cell_type": "code",
      "source": "a.isalpha()",
      "metadata": {
        "trusted": true
      },
      "outputs": [
        {
          "execution_count": 209,
          "output_type": "execute_result",
          "data": {
            "text/plain": "True"
          },
          "metadata": {}
        }
      ],
      "execution_count": 209
    },
    {
      "cell_type": "code",
      "source": "a.isdigit()",
      "metadata": {
        "trusted": true
      },
      "outputs": [
        {
          "execution_count": 210,
          "output_type": "execute_result",
          "data": {
            "text/plain": "False"
          },
          "metadata": {}
        }
      ],
      "execution_count": 210
    },
    {
      "cell_type": "code",
      "source": "h='45455544'\nh.isdigit()",
      "metadata": {
        "trusted": true
      },
      "outputs": [
        {
          "execution_count": 213,
          "output_type": "execute_result",
          "data": {
            "text/plain": "True"
          },
          "metadata": {}
        }
      ],
      "execution_count": 213
    },
    {
      "cell_type": "code",
      "source": "h.isalpha()",
      "metadata": {
        "trusted": true
      },
      "outputs": [
        {
          "execution_count": 214,
          "output_type": "execute_result",
          "data": {
            "text/plain": "False"
          },
          "metadata": {}
        }
      ],
      "execution_count": 214
    },
    {
      "cell_type": "code",
      "source": "a.islower()",
      "metadata": {
        "trusted": true
      },
      "outputs": [
        {
          "execution_count": 218,
          "output_type": "execute_result",
          "data": {
            "text/plain": "True"
          },
          "metadata": {}
        }
      ],
      "execution_count": 218
    },
    {
      "cell_type": "code",
      "source": "a.isupper()",
      "metadata": {
        "trusted": true
      },
      "outputs": [
        {
          "execution_count": 217,
          "output_type": "execute_result",
          "data": {
            "text/plain": "False"
          },
          "metadata": {}
        }
      ],
      "execution_count": 217
    },
    {
      "cell_type": "code",
      "source": "a.istitle()",
      "metadata": {
        "trusted": true
      },
      "outputs": [
        {
          "execution_count": 220,
          "output_type": "execute_result",
          "data": {
            "text/plain": "False"
          },
          "metadata": {}
        }
      ],
      "execution_count": 220
    },
    {
      "cell_type": "code",
      "source": "u= \"Hello How Are You\"\nu.istitle()",
      "metadata": {
        "trusted": true
      },
      "outputs": [
        {
          "execution_count": 222,
          "output_type": "execute_result",
          "data": {
            "text/plain": "True"
          },
          "metadata": {}
        }
      ],
      "execution_count": 222
    },
    {
      "cell_type": "code",
      "source": "v= \"Hello how are you\"\nv.istitle()",
      "metadata": {
        "trusted": true
      },
      "outputs": [
        {
          "execution_count": 223,
          "output_type": "execute_result",
          "data": {
            "text/plain": "False"
          },
          "metadata": {}
        }
      ],
      "execution_count": 223
    },
    {
      "cell_type": "code",
      "source": "# left justify (ljust) \n# rihgt justify (rjust) \n# upper case \n# lower case \n\nv.ljust(25, \" \")",
      "metadata": {
        "trusted": true
      },
      "outputs": [
        {
          "execution_count": 225,
          "output_type": "execute_result",
          "data": {
            "text/plain": "'Hello how are you        '"
          },
          "metadata": {}
        }
      ],
      "execution_count": 225
    },
    {
      "cell_type": "code",
      "source": "# rihgt justify (rjust) \n\nv.rjust(25, \" \")",
      "metadata": {
        "trusted": true
      },
      "outputs": [
        {
          "execution_count": 226,
          "output_type": "execute_result",
          "data": {
            "text/plain": "'        Hello how are you'"
          },
          "metadata": {}
        }
      ],
      "execution_count": 226
    },
    {
      "cell_type": "code",
      "source": "# upper case \nv.upper()",
      "metadata": {
        "trusted": true
      },
      "outputs": [
        {
          "execution_count": 230,
          "output_type": "execute_result",
          "data": {
            "text/plain": "'HELLO HOW ARE YOU'"
          },
          "metadata": {}
        }
      ],
      "execution_count": 230
    },
    {
      "cell_type": "code",
      "source": "v.lower()",
      "metadata": {
        "trusted": true
      },
      "outputs": [
        {
          "execution_count": 228,
          "output_type": "execute_result",
          "data": {
            "text/plain": "'hello how are you'"
          },
          "metadata": {}
        }
      ],
      "execution_count": 228
    },
    {
      "cell_type": "code",
      "source": "# to store the value in another veriable\n\ny=v.upper()",
      "metadata": {
        "trusted": true
      },
      "outputs": [],
      "execution_count": 235
    },
    {
      "cell_type": "code",
      "source": "y",
      "metadata": {
        "trusted": true
      },
      "outputs": [
        {
          "execution_count": 236,
          "output_type": "execute_result",
          "data": {
            "text/plain": "'HELLO HOW ARE YOU'"
          },
          "metadata": {}
        }
      ],
      "execution_count": 236
    },
    {
      "cell_type": "code",
      "source": "z=v.lower()",
      "metadata": {
        "trusted": true
      },
      "outputs": [],
      "execution_count": 233
    },
    {
      "cell_type": "code",
      "source": "z",
      "metadata": {
        "trusted": true
      },
      "outputs": [
        {
          "execution_count": 234,
          "output_type": "execute_result",
          "data": {
            "text/plain": "'hello how are you'"
          },
          "metadata": {}
        }
      ],
      "execution_count": 234
    },
    {
      "cell_type": "code",
      "source": "# strip function is used to remove the spaces in left and right side\n# ltrip function is used to remove the spaces in left side only\n# rtrip function is used to remove the spaces in right side only\nn=\"     welcome to our new world    \"",
      "metadata": {
        "trusted": true
      },
      "outputs": [],
      "execution_count": 237
    },
    {
      "cell_type": "code",
      "source": "n.strip()",
      "metadata": {
        "trusted": true
      },
      "outputs": [
        {
          "execution_count": 238,
          "output_type": "execute_result",
          "data": {
            "text/plain": "'welcome to our new world'"
          },
          "metadata": {}
        }
      ],
      "execution_count": 238
    },
    {
      "cell_type": "code",
      "source": "n.lstrip()",
      "metadata": {
        "trusted": true
      },
      "outputs": [
        {
          "execution_count": 239,
          "output_type": "execute_result",
          "data": {
            "text/plain": "'welcome to our new world    '"
          },
          "metadata": {}
        }
      ],
      "execution_count": 239
    },
    {
      "cell_type": "code",
      "source": "n.rstrip()",
      "metadata": {
        "trusted": true
      },
      "outputs": [
        {
          "execution_count": 240,
          "output_type": "execute_result",
          "data": {
            "text/plain": "'     welcome to our new world'"
          },
          "metadata": {}
        }
      ],
      "execution_count": 240
    },
    {
      "cell_type": "code",
      "source": "# min functions , \n# max functions, \n# replace functions,\n# occuerance replaceing \n\nh=max(10.20,55,88,99,1,2,3,4,5,7)\nprint(h)",
      "metadata": {
        "trusted": true
      },
      "outputs": [
        {
          "name": "stdout",
          "output_type": "stream",
          "text": "99\n"
        }
      ],
      "execution_count": 251
    },
    {
      "cell_type": "code",
      "source": "k=min(5, 10,45,85,78,7,4)",
      "metadata": {
        "trusted": true
      },
      "outputs": [],
      "execution_count": 245
    },
    {
      "cell_type": "code",
      "source": "print(k)",
      "metadata": {
        "trusted": true
      },
      "outputs": [
        {
          "name": "stdout",
          "output_type": "stream",
          "text": "(44, 55, 66)\n"
        }
      ],
      "execution_count": 255
    },
    {
      "cell_type": "code",
      "source": "x = max(\"Mike\", \"John\", \"Vicky\")",
      "metadata": {
        "trusted": true
      },
      "outputs": [],
      "execution_count": 247
    },
    {
      "cell_type": "code",
      "source": "print(x)",
      "metadata": {
        "trusted": true
      },
      "outputs": [
        {
          "name": "stdout",
          "output_type": "stream",
          "text": "Vicky\n"
        }
      ],
      "execution_count": 248
    },
    {
      "cell_type": "code",
      "source": "y = min(\"Mike\", \"John\", \"Vicky\")",
      "metadata": {
        "trusted": true
      },
      "outputs": [],
      "execution_count": 249
    },
    {
      "cell_type": "code",
      "source": "print(y)",
      "metadata": {
        "trusted": true
      },
      "outputs": [
        {
          "name": "stdout",
          "output_type": "stream",
          "text": "John\n"
        }
      ],
      "execution_count": 250
    },
    {
      "cell_type": "code",
      "source": "# replace functions,\n# occuerance replaceing \n\ng=\" my name is Sunnel kumar \"\n",
      "metadata": {
        "trusted": true
      },
      "outputs": [],
      "execution_count": 256
    },
    {
      "cell_type": "code",
      "source": "g.replace(\"name\", \"NAME\")",
      "metadata": {
        "trusted": true
      },
      "outputs": [
        {
          "execution_count": 257,
          "output_type": "execute_result",
          "data": {
            "text/plain": "' my NAME is Sunnel kumar '"
          },
          "metadata": {}
        }
      ],
      "execution_count": 257
    },
    {
      "cell_type": "code",
      "source": "g.replace(\"Sunnel\", \"SUNNEL\")",
      "metadata": {
        "trusted": true
      },
      "outputs": [
        {
          "execution_count": 258,
          "output_type": "execute_result",
          "data": {
            "text/plain": "' my name is SUNNEL kumar '"
          },
          "metadata": {}
        }
      ],
      "execution_count": 258
    },
    {
      "cell_type": "code",
      "source": "g.replace(\"Sunnel\", \"RAMESH\")",
      "metadata": {
        "trusted": true
      },
      "outputs": [
        {
          "execution_count": 261,
          "output_type": "execute_result",
          "data": {
            "text/plain": "' my name is RAMESH kumar '"
          },
          "metadata": {}
        }
      ],
      "execution_count": 261
    },
    {
      "cell_type": "code",
      "source": "# occuerance replaceing \ng.replace(\"a\",\"@\", 2) # a is replacing with @ and 2 is indicates occureses ",
      "metadata": {
        "trusted": true
      },
      "outputs": [
        {
          "execution_count": 263,
          "output_type": "execute_result",
          "data": {
            "text/plain": "' my n@me is Sunnel kum@r '"
          },
          "metadata": {}
        }
      ],
      "execution_count": 263
    },
    {
      "cell_type": "code",
      "source": "g.replace(\"y\",\"9\", 2)",
      "metadata": {
        "trusted": true
      },
      "outputs": [
        {
          "execution_count": 264,
          "output_type": "execute_result",
          "data": {
            "text/plain": "' m9 name is Sunnel kumar '"
          },
          "metadata": {}
        }
      ],
      "execution_count": 264
    },
    {
      "cell_type": "code",
      "source": "b=\"kamal kanth are going with kamalesh to discuss on project k\"",
      "metadata": {
        "trusted": true
      },
      "outputs": [],
      "execution_count": 265
    },
    {
      "cell_type": "code",
      "source": "b.replace(\"k\", \" \", 3) # k is replacing with \" \" and 3 is indicates occureses ",
      "metadata": {
        "trusted": true
      },
      "outputs": [
        {
          "execution_count": 266,
          "output_type": "execute_result",
          "data": {
            "text/plain": "'  amal  anth are going with  amalesh to discuss on project k'"
          },
          "metadata": {}
        }
      ],
      "execution_count": 266
    },
    {
      "cell_type": "code",
      "source": "b.replace(\"k\", \" \", 4) # k is replacing with \" \" and 4 is indicates occureses ",
      "metadata": {
        "trusted": true
      },
      "outputs": [
        {
          "execution_count": 267,
          "output_type": "execute_result",
          "data": {
            "text/plain": "'  amal  anth are going with  amalesh to discuss on project  '"
          },
          "metadata": {}
        }
      ],
      "execution_count": 267
    },
    {
      "cell_type": "code",
      "source": "b.replace(\"k\", \" \", 1) # string is replaces with occures but not stored in the variable at each time \n\n",
      "metadata": {
        "trusted": true
      },
      "outputs": [
        {
          "execution_count": 268,
          "output_type": "execute_result",
          "data": {
            "text/plain": "'  amal kanth are going with kamalesh to discuss on project k'"
          },
          "metadata": {}
        }
      ],
      "execution_count": 268
    },
    {
      "cell_type": "code",
      "source": "print('b=',b.replace(\"k\", \" \", 0)) # nothig is happen in the string\nprint('b=',b.replace(\"k\", \" \", 1)) # one occurance is changed \nprint('b=',b.replace(\"k\", \" \", 2)) # two occurances are changed \nprint('b=',b.replace(\"k\", \" \", 3)) # three occurances are changed \n",
      "metadata": {
        "trusted": true
      },
      "outputs": [
        {
          "name": "stdout",
          "output_type": "stream",
          "text": "b=  kamal kanth are going with kamalesh to discuss on project k\nb=   amal kanth are going with kamalesh to discuss on project k\nb=   amal  anth are going with kamalesh to discuss on project k\nb=   amal  anth are going with  amalesh to discuss on project k\n"
        }
      ],
      "execution_count": 271
    },
    {
      "cell_type": "code",
      "source": "# Split function \nprint('b=', b.split(\" \",1))\nprint('b=', b.split(\" \",2))\nprint('b=', b.split(\" \",3))\n\n",
      "metadata": {
        "trusted": true
      },
      "outputs": [
        {
          "name": "stdout",
          "output_type": "stream",
          "text": "b= ['', 'kamal kanth are going with kamalesh to discuss on project k']\nb= ['', 'kamal', 'kanth are going with kamalesh to discuss on project k']\nb= ['', 'kamal', 'kanth', 'are going with kamalesh to discuss on project k']\n"
        }
      ],
      "execution_count": 275
    },
    {
      "cell_type": "code",
      "source": "b.split(\" \",3)",
      "metadata": {
        "trusted": true
      },
      "outputs": [
        {
          "execution_count": 274,
          "output_type": "execute_result",
          "data": {
            "text/plain": "['', 'kamal', 'kanth', 'are going with kamalesh to discuss on project k']"
          },
          "metadata": {}
        }
      ],
      "execution_count": 274
    },
    {
      "cell_type": "code",
      "source": "b.split(\" \",3)",
      "metadata": {
        "trusted": true
      },
      "outputs": [
        {
          "execution_count": 276,
          "output_type": "execute_result",
          "data": {
            "text/plain": "['', 'kamal', 'kanth', 'are going with kamalesh to discuss on project k']"
          },
          "metadata": {}
        }
      ],
      "execution_count": 276
    },
    {
      "cell_type": "code",
      "source": "d=\"can you send me the file as soon as posiible\"\nd.split(\" \",3)",
      "metadata": {
        "trusted": true
      },
      "outputs": [
        {
          "execution_count": 277,
          "output_type": "execute_result",
          "data": {
            "text/plain": "['can', 'you', 'send', 'me the file as soon as posiible']"
          },
          "metadata": {}
        }
      ],
      "execution_count": 277
    },
    {
      "cell_type": "code",
      "source": "print('d=', d.split(\" \",0))\nprint('d=', d.split(\" \",1))\nprint('d=', d.split(\" \",2))\nprint('d=', d.split(\" \",3))",
      "metadata": {
        "trusted": true
      },
      "outputs": [
        {
          "name": "stdout",
          "output_type": "stream",
          "text": "d= ['can you send me the file as soon as posiible']\nd= ['can', 'you send me the file as soon as posiible']\nd= ['can', 'you', 'send me the file as soon as posiible']\nd= ['can', 'you', 'send', 'me the file as soon as posiible']\n"
        }
      ],
      "execution_count": 279
    },
    {
      "cell_type": "code",
      "source": "for word in d:\n    print(word)",
      "metadata": {
        "trusted": true
      },
      "outputs": [
        {
          "name": "stdout",
          "output_type": "stream",
          "text": "c\na\nn\n \ny\no\nu\n \ns\ne\nn\nd\n \nm\ne\n \nt\nh\ne\n \nf\ni\nl\ne\n \na\ns\n \ns\no\no\nn\n \na\ns\n \np\no\ns\ni\ni\nb\nl\ne\n"
        }
      ],
      "execution_count": 287
    },
    {
      "cell_type": "code",
      "source": "q=\" java program\"\nfor word in q:\n    print(word)\n    ",
      "metadata": {
        "trusted": true
      },
      "outputs": [
        {
          "name": "stdout",
          "output_type": "stream",
          "text": " \nj\na\nv\na\n \np\nr\no\ng\nr\na\nm\n"
        }
      ],
      "execution_count": 286
    },
    {
      "cell_type": "code",
      "source": "for f in range(500,700,880):\n    if f>500:\n        print(f)",
      "metadata": {
        "trusted": true
      },
      "outputs": [],
      "execution_count": 296
    },
    {
      "cell_type": "code",
      "source": "for f in range(500,700,25):\n    if f>500:\n        print(f)",
      "metadata": {
        "trusted": true
      },
      "outputs": [
        {
          "name": "stdout",
          "output_type": "stream",
          "text": "525\n550\n575\n600\n625\n650\n675\n"
        }
      ],
      "execution_count": 298
    },
    {
      "cell_type": "raw",
      "source": "for j in range(100, 800, 50):\n",
      "metadata": {}
    },
    {
      "cell_type": "code",
      "source": "for j in range(100,800, 50):\n    if j>100:\n        print('j=', j)",
      "metadata": {
        "trusted": true
      },
      "outputs": [
        {
          "name": "stdout",
          "output_type": "stream",
          "text": "j= 150\nj= 200\nj= 250\nj= 300\nj= 350\nj= 400\nj= 450\nj= 500\nj= 550\nj= 600\nj= 650\nj= 700\nj= 750\n"
        }
      ],
      "execution_count": 309
    },
    {
      "cell_type": "code",
      "source": "for j in range(100,800,50):\n    if j>200:\n        print('j=', j)",
      "metadata": {
        "trusted": true
      },
      "outputs": [
        {
          "name": "stdout",
          "output_type": "stream",
          "text": "j= 250\nj= 300\nj= 350\nj= 400\nj= 450\nj= 500\nj= 550\nj= 600\nj= 650\nj= 700\nj= 750\n"
        }
      ],
      "execution_count": 311
    },
    {
      "cell_type": "code",
      "source": "",
      "metadata": {
        "trusted": true
      },
      "outputs": [],
      "execution_count": null
    }
  ]
}